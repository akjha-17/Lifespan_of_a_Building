{
 "cells": [
  {
   "cell_type": "code",
   "execution_count": 2,
   "id": "283f69f4",
   "metadata": {},
   "outputs": [],
   "source": [
    "import sklearn"
   ]
  },
  {
   "cell_type": "code",
   "execution_count": 3,
   "id": "ce449e55",
   "metadata": {},
   "outputs": [
    {
     "name": "stdout",
     "output_type": "stream",
     "text": [
      "hello\n"
     ]
    }
   ],
   "source": [
    "print(\"hello\")"
   ]
  },
  {
   "attachments": {},
   "cell_type": "markdown",
   "id": "e65afb9a",
   "metadata": {},
   "source": [
    " ## my project"
   ]
  },
  {
   "cell_type": "code",
   "execution_count": 4,
   "id": "3030b152",
   "metadata": {},
   "outputs": [],
   "source": [
    "import pandas as pd"
   ]
  },
  {
   "cell_type": "code",
   "execution_count": 5,
   "id": "1e77dd74",
   "metadata": {},
   "outputs": [],
   "source": [
    "housing=pd.read_csv(\"datalala.csv\")"
   ]
  },
  {
   "cell_type": "code",
   "execution_count": 6,
   "id": "59607d7d",
   "metadata": {},
   "outputs": [
    {
     "data": {
      "text/plain": [
       "<bound method NDFrame.head of         CRIM    ZN  INDUS  CHAS    NOX     RM   AGE     DIS  RAD  TAX  \\\n",
       "0    0.00632  18.0   2.31     0  0.538  6.575  65.2  4.0900    1  296   \n",
       "1    0.02731   0.0   7.07     0  0.469  6.421  78.9  4.9671    2  242   \n",
       "2    0.02729   0.0   7.07     0  0.469  7.185  61.1  4.9671    2  242   \n",
       "3    0.03237   0.0   2.18     0  0.458  6.998  45.8  6.0622    3  222   \n",
       "4    0.06905   0.0   2.18     0  0.458  7.147  54.2  6.0622    3  222   \n",
       "..       ...   ...    ...   ...    ...    ...   ...     ...  ...  ...   \n",
       "499  0.06263   0.0  11.93     0  0.573  6.593  69.1  2.4786    1  273   \n",
       "500  0.04527   0.0  11.93     0  0.573  6.120  76.7  2.2875    1  273   \n",
       "501  0.06076   0.0  11.93     0  0.573  6.976  91.0  2.1675    1  273   \n",
       "502  0.10959   0.0  11.93     0  0.573  6.794  89.3  2.3889    1  273   \n",
       "503  0.04741   0.0  11.93     0  0.573  6.030  80.8  2.5050    1  273   \n",
       "\n",
       "     PTRATIO       B  LSTAT  MEDV  \n",
       "0       15.3  396.90   4.98  24.0  \n",
       "1       17.8  396.90   9.14  21.6  \n",
       "2       17.8  392.83   4.03  34.7  \n",
       "3       18.7  394.63   2.94  33.4  \n",
       "4       18.7  396.90   5.33  36.2  \n",
       "..       ...     ...    ...   ...  \n",
       "499     21.0  391.99   9.67  22.4  \n",
       "500     21.0  396.90   9.08  20.6  \n",
       "501     21.0  396.90   5.64  23.9  \n",
       "502     21.0  393.45   6.48  22.0  \n",
       "503     21.0  396.90   7.88  11.9  \n",
       "\n",
       "[504 rows x 14 columns]>"
      ]
     },
     "execution_count": 6,
     "metadata": {},
     "output_type": "execute_result"
    }
   ],
   "source": [
    "housing.head"
   ]
  },
  {
   "cell_type": "code",
   "execution_count": 7,
   "id": "27dd1c91",
   "metadata": {},
   "outputs": [
    {
     "name": "stdout",
     "output_type": "stream",
     "text": [
      "<class 'pandas.core.frame.DataFrame'>\n",
      "RangeIndex: 504 entries, 0 to 503\n",
      "Data columns (total 14 columns):\n",
      " #   Column   Non-Null Count  Dtype  \n",
      "---  ------   --------------  -----  \n",
      " 0   CRIM     504 non-null    float64\n",
      " 1   ZN       504 non-null    float64\n",
      " 2   INDUS    504 non-null    float64\n",
      " 3   CHAS     504 non-null    int64  \n",
      " 4   NOX      504 non-null    float64\n",
      " 5   RM       502 non-null    float64\n",
      " 6   AGE      504 non-null    float64\n",
      " 7   DIS      504 non-null    float64\n",
      " 8   RAD      504 non-null    int64  \n",
      " 9   TAX      504 non-null    int64  \n",
      " 10  PTRATIO  504 non-null    float64\n",
      " 11  B        504 non-null    float64\n",
      " 12  LSTAT    504 non-null    float64\n",
      " 13  MEDV     504 non-null    float64\n",
      "dtypes: float64(11), int64(3)\n",
      "memory usage: 55.2 KB\n"
     ]
    }
   ],
   "source": [
    "housing.info()"
   ]
  },
  {
   "cell_type": "code",
   "execution_count": 8,
   "id": "adba100a",
   "metadata": {},
   "outputs": [
    {
     "data": {
      "text/plain": [
       "0      0\n",
       "1      0\n",
       "2      0\n",
       "3      0\n",
       "4      0\n",
       "      ..\n",
       "499    0\n",
       "500    0\n",
       "501    0\n",
       "502    0\n",
       "503    0\n",
       "Name: CHAS, Length: 504, dtype: int64"
      ]
     },
     "execution_count": 8,
     "metadata": {},
     "output_type": "execute_result"
    }
   ],
   "source": [
    "housing['CHAS']"
   ]
  },
  {
   "cell_type": "code",
   "execution_count": 9,
   "id": "af4150ad",
   "metadata": {},
   "outputs": [
    {
     "data": {
      "text/plain": [
       "0    469\n",
       "1     35\n",
       "Name: CHAS, dtype: int64"
      ]
     },
     "execution_count": 9,
     "metadata": {},
     "output_type": "execute_result"
    }
   ],
   "source": [
    "housing['CHAS'].value_counts()"
   ]
  },
  {
   "cell_type": "code",
   "execution_count": 10,
   "id": "554a07a6",
   "metadata": {},
   "outputs": [
    {
     "data": {
      "text/html": [
       "<div>\n",
       "<style scoped>\n",
       "    .dataframe tbody tr th:only-of-type {\n",
       "        vertical-align: middle;\n",
       "    }\n",
       "\n",
       "    .dataframe tbody tr th {\n",
       "        vertical-align: top;\n",
       "    }\n",
       "\n",
       "    .dataframe thead th {\n",
       "        text-align: right;\n",
       "    }\n",
       "</style>\n",
       "<table border=\"1\" class=\"dataframe\">\n",
       "  <thead>\n",
       "    <tr style=\"text-align: right;\">\n",
       "      <th></th>\n",
       "      <th>CRIM</th>\n",
       "      <th>ZN</th>\n",
       "      <th>INDUS</th>\n",
       "      <th>CHAS</th>\n",
       "      <th>NOX</th>\n",
       "      <th>RM</th>\n",
       "      <th>AGE</th>\n",
       "      <th>DIS</th>\n",
       "      <th>RAD</th>\n",
       "      <th>TAX</th>\n",
       "      <th>PTRATIO</th>\n",
       "      <th>B</th>\n",
       "      <th>LSTAT</th>\n",
       "      <th>MEDV</th>\n",
       "    </tr>\n",
       "  </thead>\n",
       "  <tbody>\n",
       "    <tr>\n",
       "      <th>count</th>\n",
       "      <td>504.000000</td>\n",
       "      <td>504.000000</td>\n",
       "      <td>504.000000</td>\n",
       "      <td>504.000000</td>\n",
       "      <td>504.000000</td>\n",
       "      <td>502.000000</td>\n",
       "      <td>504.000000</td>\n",
       "      <td>504.000000</td>\n",
       "      <td>504.000000</td>\n",
       "      <td>504.000000</td>\n",
       "      <td>504.000000</td>\n",
       "      <td>504.000000</td>\n",
       "      <td>504.000000</td>\n",
       "      <td>504.000000</td>\n",
       "    </tr>\n",
       "    <tr>\n",
       "      <th>mean</th>\n",
       "      <td>3.626538</td>\n",
       "      <td>11.408730</td>\n",
       "      <td>11.160496</td>\n",
       "      <td>0.069444</td>\n",
       "      <td>0.554920</td>\n",
       "      <td>6.286056</td>\n",
       "      <td>68.562897</td>\n",
       "      <td>3.789221</td>\n",
       "      <td>9.573413</td>\n",
       "      <td>408.807540</td>\n",
       "      <td>18.450000</td>\n",
       "      <td>356.553413</td>\n",
       "      <td>12.672579</td>\n",
       "      <td>22.529167</td>\n",
       "    </tr>\n",
       "    <tr>\n",
       "      <th>std</th>\n",
       "      <td>8.616116</td>\n",
       "      <td>23.357742</td>\n",
       "      <td>6.861025</td>\n",
       "      <td>0.254461</td>\n",
       "      <td>0.116025</td>\n",
       "      <td>0.704877</td>\n",
       "      <td>28.192388</td>\n",
       "      <td>2.107251</td>\n",
       "      <td>8.716120</td>\n",
       "      <td>168.606181</td>\n",
       "      <td>2.166242</td>\n",
       "      <td>91.454943</td>\n",
       "      <td>7.146721</td>\n",
       "      <td>9.209240</td>\n",
       "    </tr>\n",
       "    <tr>\n",
       "      <th>min</th>\n",
       "      <td>0.006320</td>\n",
       "      <td>0.000000</td>\n",
       "      <td>0.460000</td>\n",
       "      <td>0.000000</td>\n",
       "      <td>0.385000</td>\n",
       "      <td>3.561000</td>\n",
       "      <td>2.900000</td>\n",
       "      <td>1.129600</td>\n",
       "      <td>1.000000</td>\n",
       "      <td>187.000000</td>\n",
       "      <td>12.600000</td>\n",
       "      <td>0.320000</td>\n",
       "      <td>1.730000</td>\n",
       "      <td>5.000000</td>\n",
       "    </tr>\n",
       "    <tr>\n",
       "      <th>25%</th>\n",
       "      <td>0.082155</td>\n",
       "      <td>0.000000</td>\n",
       "      <td>5.190000</td>\n",
       "      <td>0.000000</td>\n",
       "      <td>0.449000</td>\n",
       "      <td>5.885500</td>\n",
       "      <td>44.850000</td>\n",
       "      <td>2.097050</td>\n",
       "      <td>4.000000</td>\n",
       "      <td>279.000000</td>\n",
       "      <td>17.375000</td>\n",
       "      <td>375.300000</td>\n",
       "      <td>6.990000</td>\n",
       "      <td>16.950000</td>\n",
       "    </tr>\n",
       "    <tr>\n",
       "      <th>50%</th>\n",
       "      <td>0.256510</td>\n",
       "      <td>0.000000</td>\n",
       "      <td>9.690000</td>\n",
       "      <td>0.000000</td>\n",
       "      <td>0.538000</td>\n",
       "      <td>6.209000</td>\n",
       "      <td>77.500000</td>\n",
       "      <td>3.190950</td>\n",
       "      <td>5.000000</td>\n",
       "      <td>330.000000</td>\n",
       "      <td>19.050000</td>\n",
       "      <td>391.440000</td>\n",
       "      <td>11.395000</td>\n",
       "      <td>21.200000</td>\n",
       "    </tr>\n",
       "    <tr>\n",
       "      <th>75%</th>\n",
       "      <td>3.681942</td>\n",
       "      <td>12.500000</td>\n",
       "      <td>18.100000</td>\n",
       "      <td>0.000000</td>\n",
       "      <td>0.624000</td>\n",
       "      <td>6.628000</td>\n",
       "      <td>94.100000</td>\n",
       "      <td>5.141475</td>\n",
       "      <td>24.000000</td>\n",
       "      <td>666.000000</td>\n",
       "      <td>20.200000</td>\n",
       "      <td>396.232500</td>\n",
       "      <td>16.992500</td>\n",
       "      <td>25.000000</td>\n",
       "    </tr>\n",
       "    <tr>\n",
       "      <th>max</th>\n",
       "      <td>88.976200</td>\n",
       "      <td>100.000000</td>\n",
       "      <td>27.740000</td>\n",
       "      <td>1.000000</td>\n",
       "      <td>0.871000</td>\n",
       "      <td>8.780000</td>\n",
       "      <td>100.000000</td>\n",
       "      <td>12.126500</td>\n",
       "      <td>24.000000</td>\n",
       "      <td>711.000000</td>\n",
       "      <td>22.000000</td>\n",
       "      <td>396.900000</td>\n",
       "      <td>37.970000</td>\n",
       "      <td>50.000000</td>\n",
       "    </tr>\n",
       "  </tbody>\n",
       "</table>\n",
       "</div>"
      ],
      "text/plain": [
       "             CRIM          ZN       INDUS        CHAS         NOX          RM  \\\n",
       "count  504.000000  504.000000  504.000000  504.000000  504.000000  502.000000   \n",
       "mean     3.626538   11.408730   11.160496    0.069444    0.554920    6.286056   \n",
       "std      8.616116   23.357742    6.861025    0.254461    0.116025    0.704877   \n",
       "min      0.006320    0.000000    0.460000    0.000000    0.385000    3.561000   \n",
       "25%      0.082155    0.000000    5.190000    0.000000    0.449000    5.885500   \n",
       "50%      0.256510    0.000000    9.690000    0.000000    0.538000    6.209000   \n",
       "75%      3.681942   12.500000   18.100000    0.000000    0.624000    6.628000   \n",
       "max     88.976200  100.000000   27.740000    1.000000    0.871000    8.780000   \n",
       "\n",
       "              AGE         DIS         RAD         TAX     PTRATIO           B  \\\n",
       "count  504.000000  504.000000  504.000000  504.000000  504.000000  504.000000   \n",
       "mean    68.562897    3.789221    9.573413  408.807540   18.450000  356.553413   \n",
       "std     28.192388    2.107251    8.716120  168.606181    2.166242   91.454943   \n",
       "min      2.900000    1.129600    1.000000  187.000000   12.600000    0.320000   \n",
       "25%     44.850000    2.097050    4.000000  279.000000   17.375000  375.300000   \n",
       "50%     77.500000    3.190950    5.000000  330.000000   19.050000  391.440000   \n",
       "75%     94.100000    5.141475   24.000000  666.000000   20.200000  396.232500   \n",
       "max    100.000000   12.126500   24.000000  711.000000   22.000000  396.900000   \n",
       "\n",
       "            LSTAT        MEDV  \n",
       "count  504.000000  504.000000  \n",
       "mean    12.672579   22.529167  \n",
       "std      7.146721    9.209240  \n",
       "min      1.730000    5.000000  \n",
       "25%      6.990000   16.950000  \n",
       "50%     11.395000   21.200000  \n",
       "75%     16.992500   25.000000  \n",
       "max     37.970000   50.000000  "
      ]
     },
     "execution_count": 10,
     "metadata": {},
     "output_type": "execute_result"
    }
   ],
   "source": [
    "housing.describe()"
   ]
  },
  {
   "cell_type": "code",
   "execution_count": 11,
   "id": "387f32be",
   "metadata": {},
   "outputs": [],
   "source": [
    "import matplotlib.pyplot as plt"
   ]
  },
  {
   "cell_type": "code",
   "execution_count": 12,
   "id": "8051d71b",
   "metadata": {
    "scrolled": true
   },
   "outputs": [
    {
     "data": {
      "text/plain": [
       "array([[<AxesSubplot: title={'center': 'CRIM'}>,\n",
       "        <AxesSubplot: title={'center': 'ZN'}>,\n",
       "        <AxesSubplot: title={'center': 'INDUS'}>,\n",
       "        <AxesSubplot: title={'center': 'CHAS'}>],\n",
       "       [<AxesSubplot: title={'center': 'NOX'}>,\n",
       "        <AxesSubplot: title={'center': 'RM'}>,\n",
       "        <AxesSubplot: title={'center': 'AGE'}>,\n",
       "        <AxesSubplot: title={'center': 'DIS'}>],\n",
       "       [<AxesSubplot: title={'center': 'RAD'}>,\n",
       "        <AxesSubplot: title={'center': 'TAX'}>,\n",
       "        <AxesSubplot: title={'center': 'PTRATIO'}>,\n",
       "        <AxesSubplot: title={'center': 'B'}>],\n",
       "       [<AxesSubplot: title={'center': 'LSTAT'}>,\n",
       "        <AxesSubplot: title={'center': 'MEDV'}>, <AxesSubplot: >,\n",
       "        <AxesSubplot: >]], dtype=object)"
      ]
     },
     "execution_count": 12,
     "metadata": {},
     "output_type": "execute_result"
    },
    {
     "data": {
      "image/png": "[encoded data removed]",
      "text/plain": [
       "<Figure size 2000x2000 with 16 Axes>"
      ]
     },
     "metadata": {},
     "output_type": "display_data"
    }
   ],
   "source": [
    "housing.hist(bins=50,figsize=(20,20))"
   ]
  },
  {
   "attachments": {},
   "cell_type": "markdown",
   "id": "9daf3615",
   "metadata": {},
   "source": [
    " ## train test splitting"
   ]
  },
  {
   "cell_type": "code",
   "execution_count": 13,
   "id": "500125a6",
   "metadata": {},
   "outputs": [],
   "source": [
    "#learnin\n",
    "import numpy as np\n",
    "def split_train_test(data,test_ratio):\n",
    "    np.random.seed(42) #so that the shuffled value getset \n",
    "    #  => or else it will get idea of entire data\n",
    "    shuffled=np.random.permutation(len(data))\n",
    "    test_set_size=int(len(data)*test_ratio)\n",
    "    test_indices=shuffled[:test_set_size]\n",
    "    train_indices=shuffled[test_set_size:]\n",
    "    return data.iloc[train_indices],data.iloc[test_indices]"
   ]
  },
  {
   "cell_type": "code",
   "execution_count": 14,
   "id": "5f53b14a",
   "metadata": {},
   "outputs": [],
   "source": [
    "#train_set,test_set=split_train_test(housing,0.2)"
   ]
  },
  {
   "cell_type": "code",
   "execution_count": 15,
   "id": "44f40ad9",
   "metadata": {},
   "outputs": [],
   "source": [
    "#print(f\"rows in train set: {len(train_set)} \\nrow in test set{len(test_set)}\")"
   ]
  },
  {
   "cell_type": "code",
   "execution_count": 16,
   "id": "732a905a",
   "metadata": {
    "scrolled": true
   },
   "outputs": [
    {
     "name": "stdout",
     "output_type": "stream",
     "text": [
      "rows in train set: 403 \n",
      "row in test set101\n"
     ]
    }
   ],
   "source": [
    "from sklearn.model_selection import train_test_split\n",
    "train_set,test_set=train_test_split(housing,test_size=0.2,random_state=42)\n",
    "print(f\"rows in train set: {len(train_set)} \\nrow in test set{len(test_set)}\")"
   ]
  },
  {
   "cell_type": "code",
   "execution_count": 17,
   "id": "2eba9c6f",
   "metadata": {},
   "outputs": [],
   "source": [
    "                                                                                                                                   #taki 0s and 1s equally distribute ho train aur test mein\n",
    "from sklearn.model_selection import StratifiedShuffleSplit \n",
    "split=StratifiedShuffleSplit(n_splits=1,test_size=0.2,random_state=42)                                                               #so that it doesnt assume ki sirf ek hi tarah ka data hai is attribute k liye\n",
    "for train_index, test_index in split.split(housing,housing['CHAS']):\n",
    "    strat_train_set=housing.loc[train_index]\n",
    "    strat_test_set=housing.loc[test_index]\n",
    "    \n"
   ]
  },
  {
   "cell_type": "code",
   "execution_count": 18,
   "id": "048b8c67",
   "metadata": {},
   "outputs": [],
   "source": [
    "from sklearn.preprocessing import StandardScaler\n",
    "scaler=StandardScaler()"
   ]
  },
  {
   "cell_type": "code",
   "execution_count": 19,
   "id": "8b76d7e6",
   "metadata": {},
   "outputs": [],
   "source": [
    "import pickle\n",
    "pickle.dump(scaler,open('scaling.pkl','wb'))"
   ]
  },
  {
   "cell_type": "code",
   "execution_count": 20,
   "id": "5485f36b",
   "metadata": {},
   "outputs": [
    {
     "data": {
      "text/html": [
       "<div>\n",
       "<style scoped>\n",
       "    .dataframe tbody tr th:only-of-type {\n",
       "        vertical-align: middle;\n",
       "    }\n",
       "\n",
       "    .dataframe tbody tr th {\n",
       "        vertical-align: top;\n",
       "    }\n",
       "\n",
       "    .dataframe thead th {\n",
       "        text-align: right;\n",
       "    }\n",
       "</style>\n",
       "<table border=\"1\" class=\"dataframe\">\n",
       "  <thead>\n",
       "    <tr style=\"text-align: right;\">\n",
       "      <th></th>\n",
       "      <th>CRIM</th>\n",
       "      <th>ZN</th>\n",
       "      <th>INDUS</th>\n",
       "      <th>CHAS</th>\n",
       "      <th>NOX</th>\n",
       "      <th>RM</th>\n",
       "      <th>AGE</th>\n",
       "      <th>DIS</th>\n",
       "      <th>RAD</th>\n",
       "      <th>TAX</th>\n",
       "      <th>PTRATIO</th>\n",
       "      <th>B</th>\n",
       "      <th>LSTAT</th>\n",
       "      <th>MEDV</th>\n",
       "    </tr>\n",
       "  </thead>\n",
       "  <tbody>\n",
       "    <tr>\n",
       "      <th>194</th>\n",
       "      <td>0.04011</td>\n",
       "      <td>80.0</td>\n",
       "      <td>1.52</td>\n",
       "      <td>0</td>\n",
       "      <td>0.404</td>\n",
       "      <td>7.287</td>\n",
       "      <td>34.1</td>\n",
       "      <td>7.3090</td>\n",
       "      <td>2</td>\n",
       "      <td>329</td>\n",
       "      <td>12.6</td>\n",
       "      <td>396.90</td>\n",
       "      <td>4.08</td>\n",
       "      <td>33.3</td>\n",
       "    </tr>\n",
       "    <tr>\n",
       "      <th>284</th>\n",
       "      <td>0.01965</td>\n",
       "      <td>80.0</td>\n",
       "      <td>1.76</td>\n",
       "      <td>0</td>\n",
       "      <td>0.385</td>\n",
       "      <td>6.230</td>\n",
       "      <td>31.5</td>\n",
       "      <td>9.0892</td>\n",
       "      <td>1</td>\n",
       "      <td>241</td>\n",
       "      <td>18.2</td>\n",
       "      <td>341.60</td>\n",
       "      <td>12.93</td>\n",
       "      <td>20.1</td>\n",
       "    </tr>\n",
       "    <tr>\n",
       "      <th>80</th>\n",
       "      <td>0.03659</td>\n",
       "      <td>25.0</td>\n",
       "      <td>4.86</td>\n",
       "      <td>0</td>\n",
       "      <td>0.426</td>\n",
       "      <td>6.302</td>\n",
       "      <td>32.2</td>\n",
       "      <td>5.4007</td>\n",
       "      <td>4</td>\n",
       "      <td>281</td>\n",
       "      <td>19.0</td>\n",
       "      <td>396.90</td>\n",
       "      <td>6.72</td>\n",
       "      <td>24.8</td>\n",
       "    </tr>\n",
       "    <tr>\n",
       "      <th>87</th>\n",
       "      <td>0.05302</td>\n",
       "      <td>0.0</td>\n",
       "      <td>3.41</td>\n",
       "      <td>0</td>\n",
       "      <td>0.489</td>\n",
       "      <td>7.079</td>\n",
       "      <td>63.1</td>\n",
       "      <td>3.4145</td>\n",
       "      <td>2</td>\n",
       "      <td>270</td>\n",
       "      <td>17.8</td>\n",
       "      <td>396.06</td>\n",
       "      <td>5.70</td>\n",
       "      <td>28.7</td>\n",
       "    </tr>\n",
       "    <tr>\n",
       "      <th>291</th>\n",
       "      <td>0.08265</td>\n",
       "      <td>0.0</td>\n",
       "      <td>13.92</td>\n",
       "      <td>0</td>\n",
       "      <td>0.437</td>\n",
       "      <td>6.127</td>\n",
       "      <td>18.4</td>\n",
       "      <td>5.5027</td>\n",
       "      <td>4</td>\n",
       "      <td>289</td>\n",
       "      <td>16.0</td>\n",
       "      <td>396.90</td>\n",
       "      <td>8.58</td>\n",
       "      <td>23.9</td>\n",
       "    </tr>\n",
       "    <tr>\n",
       "      <th>...</th>\n",
       "      <td>...</td>\n",
       "      <td>...</td>\n",
       "      <td>...</td>\n",
       "      <td>...</td>\n",
       "      <td>...</td>\n",
       "      <td>...</td>\n",
       "      <td>...</td>\n",
       "      <td>...</td>\n",
       "      <td>...</td>\n",
       "      <td>...</td>\n",
       "      <td>...</td>\n",
       "      <td>...</td>\n",
       "      <td>...</td>\n",
       "      <td>...</td>\n",
       "    </tr>\n",
       "    <tr>\n",
       "      <th>342</th>\n",
       "      <td>0.03049</td>\n",
       "      <td>55.0</td>\n",
       "      <td>3.78</td>\n",
       "      <td>0</td>\n",
       "      <td>0.484</td>\n",
       "      <td>6.874</td>\n",
       "      <td>28.1</td>\n",
       "      <td>6.4654</td>\n",
       "      <td>5</td>\n",
       "      <td>370</td>\n",
       "      <td>17.6</td>\n",
       "      <td>387.97</td>\n",
       "      <td>4.61</td>\n",
       "      <td>31.2</td>\n",
       "    </tr>\n",
       "    <tr>\n",
       "      <th>493</th>\n",
       "      <td>0.17899</td>\n",
       "      <td>0.0</td>\n",
       "      <td>9.69</td>\n",
       "      <td>0</td>\n",
       "      <td>0.585</td>\n",
       "      <td>5.670</td>\n",
       "      <td>28.8</td>\n",
       "      <td>2.7986</td>\n",
       "      <td>6</td>\n",
       "      <td>391</td>\n",
       "      <td>19.2</td>\n",
       "      <td>393.29</td>\n",
       "      <td>17.60</td>\n",
       "      <td>23.1</td>\n",
       "    </tr>\n",
       "    <tr>\n",
       "      <th>479</th>\n",
       "      <td>5.70818</td>\n",
       "      <td>0.0</td>\n",
       "      <td>18.10</td>\n",
       "      <td>0</td>\n",
       "      <td>0.532</td>\n",
       "      <td>6.750</td>\n",
       "      <td>74.9</td>\n",
       "      <td>3.3317</td>\n",
       "      <td>24</td>\n",
       "      <td>666</td>\n",
       "      <td>20.2</td>\n",
       "      <td>393.07</td>\n",
       "      <td>7.74</td>\n",
       "      <td>23.7</td>\n",
       "    </tr>\n",
       "    <tr>\n",
       "      <th>503</th>\n",
       "      <td>0.04741</td>\n",
       "      <td>0.0</td>\n",
       "      <td>11.93</td>\n",
       "      <td>0</td>\n",
       "      <td>0.573</td>\n",
       "      <td>6.030</td>\n",
       "      <td>80.8</td>\n",
       "      <td>2.5050</td>\n",
       "      <td>1</td>\n",
       "      <td>273</td>\n",
       "      <td>21.0</td>\n",
       "      <td>396.90</td>\n",
       "      <td>7.88</td>\n",
       "      <td>11.9</td>\n",
       "    </tr>\n",
       "    <tr>\n",
       "      <th>355</th>\n",
       "      <td>3.84970</td>\n",
       "      <td>0.0</td>\n",
       "      <td>18.10</td>\n",
       "      <td>1</td>\n",
       "      <td>0.770</td>\n",
       "      <td>6.395</td>\n",
       "      <td>91.0</td>\n",
       "      <td>2.5052</td>\n",
       "      <td>24</td>\n",
       "      <td>666</td>\n",
       "      <td>20.2</td>\n",
       "      <td>391.34</td>\n",
       "      <td>13.27</td>\n",
       "      <td>21.7</td>\n",
       "    </tr>\n",
       "  </tbody>\n",
       "</table>\n",
       "<p>101 rows × 14 columns</p>\n",
       "</div>"
      ],
      "text/plain": [
       "        CRIM    ZN  INDUS  CHAS    NOX     RM   AGE     DIS  RAD  TAX  \\\n",
       "194  0.04011  80.0   1.52     0  0.404  7.287  34.1  7.3090    2  329   \n",
       "284  0.01965  80.0   1.76     0  0.385  6.230  31.5  9.0892    1  241   \n",
       "80   0.03659  25.0   4.86     0  0.426  6.302  32.2  5.4007    4  281   \n",
       "87   0.05302   0.0   3.41     0  0.489  7.079  63.1  3.4145    2  270   \n",
       "291  0.08265   0.0  13.92     0  0.437  6.127  18.4  5.5027    4  289   \n",
       "..       ...   ...    ...   ...    ...    ...   ...     ...  ...  ...   \n",
       "342  0.03049  55.0   3.78     0  0.484  6.874  28.1  6.4654    5  370   \n",
       "493  0.17899   0.0   9.69     0  0.585  5.670  28.8  2.7986    6  391   \n",
       "479  5.70818   0.0  18.10     0  0.532  6.750  74.9  3.3317   24  666   \n",
       "503  0.04741   0.0  11.93     0  0.573  6.030  80.8  2.5050    1  273   \n",
       "355  3.84970   0.0  18.10     1  0.770  6.395  91.0  2.5052   24  666   \n",
       "\n",
       "     PTRATIO       B  LSTAT  MEDV  \n",
       "194     12.6  396.90   4.08  33.3  \n",
       "284     18.2  341.60  12.93  20.1  \n",
       "80      19.0  396.90   6.72  24.8  \n",
       "87      17.8  396.06   5.70  28.7  \n",
       "291     16.0  396.90   8.58  23.9  \n",
       "..       ...     ...    ...   ...  \n",
       "342     17.6  387.97   4.61  31.2  \n",
       "493     19.2  393.29  17.60  23.1  \n",
       "479     20.2  393.07   7.74  23.7  \n",
       "503     21.0  396.90   7.88  11.9  \n",
       "355     20.2  391.34  13.27  21.7  \n",
       "\n",
       "[101 rows x 14 columns]"
      ]
     },
     "execution_count": 20,
     "metadata": {},
     "output_type": "execute_result"
    }
   ],
   "source": [
    "strat_test_set"
   ]
  },
  {
   "cell_type": "code",
   "execution_count": 21,
   "id": "7553a933",
   "metadata": {},
   "outputs": [
    {
     "data": {
      "text/html": [
       "<div>\n",
       "<style scoped>\n",
       "    .dataframe tbody tr th:only-of-type {\n",
       "        vertical-align: middle;\n",
       "    }\n",
       "\n",
       "    .dataframe tbody tr th {\n",
       "        vertical-align: top;\n",
       "    }\n",
       "\n",
       "    .dataframe thead th {\n",
       "        text-align: right;\n",
       "    }\n",
       "</style>\n",
       "<table border=\"1\" class=\"dataframe\">\n",
       "  <thead>\n",
       "    <tr style=\"text-align: right;\">\n",
       "      <th></th>\n",
       "      <th>CRIM</th>\n",
       "      <th>ZN</th>\n",
       "      <th>INDUS</th>\n",
       "      <th>CHAS</th>\n",
       "      <th>NOX</th>\n",
       "      <th>RM</th>\n",
       "      <th>AGE</th>\n",
       "      <th>DIS</th>\n",
       "      <th>RAD</th>\n",
       "      <th>TAX</th>\n",
       "      <th>PTRATIO</th>\n",
       "      <th>B</th>\n",
       "      <th>LSTAT</th>\n",
       "      <th>MEDV</th>\n",
       "    </tr>\n",
       "  </thead>\n",
       "  <tbody>\n",
       "    <tr>\n",
       "      <th>count</th>\n",
       "      <td>101.000000</td>\n",
       "      <td>101.000000</td>\n",
       "      <td>101.000000</td>\n",
       "      <td>101.000000</td>\n",
       "      <td>101.000000</td>\n",
       "      <td>101.000000</td>\n",
       "      <td>101.000000</td>\n",
       "      <td>101.000000</td>\n",
       "      <td>101.000000</td>\n",
       "      <td>101.000000</td>\n",
       "      <td>101.000000</td>\n",
       "      <td>101.000000</td>\n",
       "      <td>101.000000</td>\n",
       "      <td>101.000000</td>\n",
       "    </tr>\n",
       "    <tr>\n",
       "      <th>mean</th>\n",
       "      <td>3.745636</td>\n",
       "      <td>15.846535</td>\n",
       "      <td>10.418812</td>\n",
       "      <td>0.069307</td>\n",
       "      <td>0.542790</td>\n",
       "      <td>6.357139</td>\n",
       "      <td>66.172277</td>\n",
       "      <td>3.883082</td>\n",
       "      <td>9.039604</td>\n",
       "      <td>399.851485</td>\n",
       "      <td>18.242574</td>\n",
       "      <td>370.182277</td>\n",
       "      <td>11.969307</td>\n",
       "      <td>22.767327</td>\n",
       "    </tr>\n",
       "    <tr>\n",
       "      <th>std</th>\n",
       "      <td>10.313086</td>\n",
       "      <td>28.168399</td>\n",
       "      <td>7.125004</td>\n",
       "      <td>0.255242</td>\n",
       "      <td>0.107402</td>\n",
       "      <td>0.699222</td>\n",
       "      <td>28.915308</td>\n",
       "      <td>2.169833</td>\n",
       "      <td>8.529854</td>\n",
       "      <td>169.295859</td>\n",
       "      <td>2.385345</td>\n",
       "      <td>70.786371</td>\n",
       "      <td>7.000071</td>\n",
       "      <td>8.371130</td>\n",
       "    </tr>\n",
       "    <tr>\n",
       "      <th>min</th>\n",
       "      <td>0.013110</td>\n",
       "      <td>0.000000</td>\n",
       "      <td>0.740000</td>\n",
       "      <td>0.000000</td>\n",
       "      <td>0.385000</td>\n",
       "      <td>4.138000</td>\n",
       "      <td>6.200000</td>\n",
       "      <td>1.137000</td>\n",
       "      <td>1.000000</td>\n",
       "      <td>188.000000</td>\n",
       "      <td>12.600000</td>\n",
       "      <td>0.320000</td>\n",
       "      <td>2.470000</td>\n",
       "      <td>5.600000</td>\n",
       "    </tr>\n",
       "    <tr>\n",
       "      <th>25%</th>\n",
       "      <td>0.053020</td>\n",
       "      <td>0.000000</td>\n",
       "      <td>4.860000</td>\n",
       "      <td>0.000000</td>\n",
       "      <td>0.448000</td>\n",
       "      <td>5.951000</td>\n",
       "      <td>37.300000</td>\n",
       "      <td>2.103600</td>\n",
       "      <td>4.000000</td>\n",
       "      <td>273.000000</td>\n",
       "      <td>16.800000</td>\n",
       "      <td>377.560000</td>\n",
       "      <td>6.720000</td>\n",
       "      <td>18.700000</td>\n",
       "    </tr>\n",
       "    <tr>\n",
       "      <th>50%</th>\n",
       "      <td>0.195390</td>\n",
       "      <td>0.000000</td>\n",
       "      <td>8.140000</td>\n",
       "      <td>0.000000</td>\n",
       "      <td>0.520000</td>\n",
       "      <td>6.315000</td>\n",
       "      <td>71.300000</td>\n",
       "      <td>3.092300</td>\n",
       "      <td>5.000000</td>\n",
       "      <td>313.000000</td>\n",
       "      <td>19.000000</td>\n",
       "      <td>393.290000</td>\n",
       "      <td>9.470000</td>\n",
       "      <td>21.700000</td>\n",
       "    </tr>\n",
       "    <tr>\n",
       "      <th>75%</th>\n",
       "      <td>2.149180</td>\n",
       "      <td>21.000000</td>\n",
       "      <td>18.100000</td>\n",
       "      <td>0.000000</td>\n",
       "      <td>0.609000</td>\n",
       "      <td>6.649000</td>\n",
       "      <td>93.500000</td>\n",
       "      <td>5.400700</td>\n",
       "      <td>8.000000</td>\n",
       "      <td>666.000000</td>\n",
       "      <td>20.200000</td>\n",
       "      <td>396.900000</td>\n",
       "      <td>16.740000</td>\n",
       "      <td>27.000000</td>\n",
       "    </tr>\n",
       "    <tr>\n",
       "      <th>max</th>\n",
       "      <td>88.976200</td>\n",
       "      <td>95.000000</td>\n",
       "      <td>27.740000</td>\n",
       "      <td>1.000000</td>\n",
       "      <td>0.871000</td>\n",
       "      <td>8.725000</td>\n",
       "      <td>100.000000</td>\n",
       "      <td>9.187600</td>\n",
       "      <td>24.000000</td>\n",
       "      <td>711.000000</td>\n",
       "      <td>21.200000</td>\n",
       "      <td>396.900000</td>\n",
       "      <td>37.970000</td>\n",
       "      <td>50.000000</td>\n",
       "    </tr>\n",
       "  </tbody>\n",
       "</table>\n",
       "</div>"
      ],
      "text/plain": [
       "             CRIM          ZN       INDUS        CHAS         NOX          RM  \\\n",
       "count  101.000000  101.000000  101.000000  101.000000  101.000000  101.000000   \n",
       "mean     3.745636   15.846535   10.418812    0.069307    0.542790    6.357139   \n",
       "std     10.313086   28.168399    7.125004    0.255242    0.107402    0.699222   \n",
       "min      0.013110    0.000000    0.740000    0.000000    0.385000    4.138000   \n",
       "25%      0.053020    0.000000    4.860000    0.000000    0.448000    5.951000   \n",
       "50%      0.195390    0.000000    8.140000    0.000000    0.520000    6.315000   \n",
       "75%      2.149180   21.000000   18.100000    0.000000    0.609000    6.649000   \n",
       "max     88.976200   95.000000   27.740000    1.000000    0.871000    8.725000   \n",
       "\n",
       "              AGE         DIS         RAD         TAX     PTRATIO           B  \\\n",
       "count  101.000000  101.000000  101.000000  101.000000  101.000000  101.000000   \n",
       "mean    66.172277    3.883082    9.039604  399.851485   18.242574  370.182277   \n",
       "std     28.915308    2.169833    8.529854  169.295859    2.385345   70.786371   \n",
       "min      6.200000    1.137000    1.000000  188.000000   12.600000    0.320000   \n",
       "25%     37.300000    2.103600    4.000000  273.000000   16.800000  377.560000   \n",
       "50%     71.300000    3.092300    5.000000  313.000000   19.000000  393.290000   \n",
       "75%     93.500000    5.400700    8.000000  666.000000   20.200000  396.900000   \n",
       "max    100.000000    9.187600   24.000000  711.000000   21.200000  396.900000   \n",
       "\n",
       "            LSTAT        MEDV  \n",
       "count  101.000000  101.000000  \n",
       "mean    11.969307   22.767327  \n",
       "std      7.000071    8.371130  \n",
       "min      2.470000    5.600000  \n",
       "25%      6.720000   18.700000  \n",
       "50%      9.470000   21.700000  \n",
       "75%     16.740000   27.000000  \n",
       "max     37.970000   50.000000  "
      ]
     },
     "execution_count": 21,
     "metadata": {},
     "output_type": "execute_result"
    }
   ],
   "source": [
    "strat_test_set.describe()"
   ]
  },
  {
   "cell_type": "code",
   "execution_count": 22,
   "id": "19aadf5f",
   "metadata": {},
   "outputs": [
    {
     "name": "stdout",
     "output_type": "stream",
     "text": [
      "<class 'pandas.core.frame.DataFrame'>\n",
      "Int64Index: 101 entries, 194 to 355\n",
      "Data columns (total 14 columns):\n",
      " #   Column   Non-Null Count  Dtype  \n",
      "---  ------   --------------  -----  \n",
      " 0   CRIM     101 non-null    float64\n",
      " 1   ZN       101 non-null    float64\n",
      " 2   INDUS    101 non-null    float64\n",
      " 3   CHAS     101 non-null    int64  \n",
      " 4   NOX      101 non-null    float64\n",
      " 5   RM       101 non-null    float64\n",
      " 6   AGE      101 non-null    float64\n",
      " 7   DIS      101 non-null    float64\n",
      " 8   RAD      101 non-null    int64  \n",
      " 9   TAX      101 non-null    int64  \n",
      " 10  PTRATIO  101 non-null    float64\n",
      " 11  B        101 non-null    float64\n",
      " 12  LSTAT    101 non-null    float64\n",
      " 13  MEDV     101 non-null    float64\n",
      "dtypes: float64(11), int64(3)\n",
      "memory usage: 11.8 KB\n"
     ]
    }
   ],
   "source": [
    "strat_test_set.info()"
   ]
  },
  {
   "cell_type": "code",
   "execution_count": 23,
   "id": "0a9fbf06",
   "metadata": {},
   "outputs": [
    {
     "data": {
      "text/plain": [
       "0    94\n",
       "1     7\n",
       "Name: CHAS, dtype: int64"
      ]
     },
     "execution_count": 23,
     "metadata": {},
     "output_type": "execute_result"
    }
   ],
   "source": [
    "strat_test_set['CHAS'].value_counts()"
   ]
  },
  {
   "cell_type": "code",
   "execution_count": 24,
   "id": "581dfd4a",
   "metadata": {},
   "outputs": [
    {
     "data": {
      "text/html": [
       "<div>\n",
       "<style scoped>\n",
       "    .dataframe tbody tr th:only-of-type {\n",
       "        vertical-align: middle;\n",
       "    }\n",
       "\n",
       "    .dataframe tbody tr th {\n",
       "        vertical-align: top;\n",
       "    }\n",
       "\n",
       "    .dataframe thead th {\n",
       "        text-align: right;\n",
       "    }\n",
       "</style>\n",
       "<table border=\"1\" class=\"dataframe\">\n",
       "  <thead>\n",
       "    <tr style=\"text-align: right;\">\n",
       "      <th></th>\n",
       "      <th>CRIM</th>\n",
       "      <th>ZN</th>\n",
       "      <th>INDUS</th>\n",
       "      <th>CHAS</th>\n",
       "      <th>NOX</th>\n",
       "      <th>RM</th>\n",
       "      <th>AGE</th>\n",
       "      <th>DIS</th>\n",
       "      <th>RAD</th>\n",
       "      <th>TAX</th>\n",
       "      <th>PTRATIO</th>\n",
       "      <th>B</th>\n",
       "      <th>LSTAT</th>\n",
       "      <th>MEDV</th>\n",
       "    </tr>\n",
       "  </thead>\n",
       "  <tbody>\n",
       "    <tr>\n",
       "      <th>481</th>\n",
       "      <td>2.81838</td>\n",
       "      <td>0.0</td>\n",
       "      <td>18.10</td>\n",
       "      <td>0</td>\n",
       "      <td>0.532</td>\n",
       "      <td>5.762</td>\n",
       "      <td>40.3</td>\n",
       "      <td>4.0983</td>\n",
       "      <td>24</td>\n",
       "      <td>666</td>\n",
       "      <td>20.2</td>\n",
       "      <td>392.92</td>\n",
       "      <td>10.42</td>\n",
       "      <td>21.8</td>\n",
       "    </tr>\n",
       "    <tr>\n",
       "      <th>96</th>\n",
       "      <td>0.08187</td>\n",
       "      <td>0.0</td>\n",
       "      <td>2.89</td>\n",
       "      <td>0</td>\n",
       "      <td>0.445</td>\n",
       "      <td>7.820</td>\n",
       "      <td>36.9</td>\n",
       "      <td>3.4952</td>\n",
       "      <td>2</td>\n",
       "      <td>276</td>\n",
       "      <td>18.0</td>\n",
       "      <td>393.53</td>\n",
       "      <td>3.57</td>\n",
       "      <td>43.8</td>\n",
       "    </tr>\n",
       "    <tr>\n",
       "      <th>301</th>\n",
       "      <td>0.10000</td>\n",
       "      <td>34.0</td>\n",
       "      <td>6.09</td>\n",
       "      <td>0</td>\n",
       "      <td>0.433</td>\n",
       "      <td>6.982</td>\n",
       "      <td>17.7</td>\n",
       "      <td>5.4917</td>\n",
       "      <td>7</td>\n",
       "      <td>329</td>\n",
       "      <td>16.1</td>\n",
       "      <td>390.43</td>\n",
       "      <td>4.86</td>\n",
       "      <td>33.1</td>\n",
       "    </tr>\n",
       "    <tr>\n",
       "      <th>189</th>\n",
       "      <td>0.06911</td>\n",
       "      <td>45.0</td>\n",
       "      <td>3.44</td>\n",
       "      <td>0</td>\n",
       "      <td>0.437</td>\n",
       "      <td>6.739</td>\n",
       "      <td>30.8</td>\n",
       "      <td>6.4798</td>\n",
       "      <td>5</td>\n",
       "      <td>398</td>\n",
       "      <td>15.2</td>\n",
       "      <td>389.71</td>\n",
       "      <td>4.69</td>\n",
       "      <td>30.5</td>\n",
       "    </tr>\n",
       "    <tr>\n",
       "      <th>141</th>\n",
       "      <td>4.09740</td>\n",
       "      <td>0.0</td>\n",
       "      <td>19.58</td>\n",
       "      <td>0</td>\n",
       "      <td>0.871</td>\n",
       "      <td>5.468</td>\n",
       "      <td>100.0</td>\n",
       "      <td>1.4118</td>\n",
       "      <td>5</td>\n",
       "      <td>403</td>\n",
       "      <td>14.7</td>\n",
       "      <td>396.90</td>\n",
       "      <td>26.42</td>\n",
       "      <td>15.6</td>\n",
       "    </tr>\n",
       "    <tr>\n",
       "      <th>...</th>\n",
       "      <td>...</td>\n",
       "      <td>...</td>\n",
       "      <td>...</td>\n",
       "      <td>...</td>\n",
       "      <td>...</td>\n",
       "      <td>...</td>\n",
       "      <td>...</td>\n",
       "      <td>...</td>\n",
       "      <td>...</td>\n",
       "      <td>...</td>\n",
       "      <td>...</td>\n",
       "      <td>...</td>\n",
       "      <td>...</td>\n",
       "      <td>...</td>\n",
       "    </tr>\n",
       "    <tr>\n",
       "      <th>161</th>\n",
       "      <td>1.51902</td>\n",
       "      <td>0.0</td>\n",
       "      <td>19.58</td>\n",
       "      <td>1</td>\n",
       "      <td>0.605</td>\n",
       "      <td>8.375</td>\n",
       "      <td>93.9</td>\n",
       "      <td>2.1620</td>\n",
       "      <td>5</td>\n",
       "      <td>403</td>\n",
       "      <td>14.7</td>\n",
       "      <td>388.45</td>\n",
       "      <td>3.32</td>\n",
       "      <td>50.0</td>\n",
       "    </tr>\n",
       "    <tr>\n",
       "      <th>423</th>\n",
       "      <td>15.86030</td>\n",
       "      <td>0.0</td>\n",
       "      <td>18.10</td>\n",
       "      <td>0</td>\n",
       "      <td>0.679</td>\n",
       "      <td>5.896</td>\n",
       "      <td>95.4</td>\n",
       "      <td>1.9096</td>\n",
       "      <td>24</td>\n",
       "      <td>666</td>\n",
       "      <td>20.2</td>\n",
       "      <td>7.68</td>\n",
       "      <td>24.39</td>\n",
       "      <td>8.3</td>\n",
       "    </tr>\n",
       "    <tr>\n",
       "      <th>98</th>\n",
       "      <td>0.14866</td>\n",
       "      <td>0.0</td>\n",
       "      <td>8.56</td>\n",
       "      <td>0</td>\n",
       "      <td>0.520</td>\n",
       "      <td>6.727</td>\n",
       "      <td>79.9</td>\n",
       "      <td>2.7778</td>\n",
       "      <td>5</td>\n",
       "      <td>384</td>\n",
       "      <td>20.9</td>\n",
       "      <td>394.76</td>\n",
       "      <td>9.42</td>\n",
       "      <td>27.5</td>\n",
       "    </tr>\n",
       "    <tr>\n",
       "      <th>455</th>\n",
       "      <td>8.20058</td>\n",
       "      <td>0.0</td>\n",
       "      <td>18.10</td>\n",
       "      <td>0</td>\n",
       "      <td>0.713</td>\n",
       "      <td>5.936</td>\n",
       "      <td>80.3</td>\n",
       "      <td>2.7792</td>\n",
       "      <td>24</td>\n",
       "      <td>666</td>\n",
       "      <td>20.2</td>\n",
       "      <td>3.50</td>\n",
       "      <td>16.94</td>\n",
       "      <td>13.5</td>\n",
       "    </tr>\n",
       "    <tr>\n",
       "      <th>152</th>\n",
       "      <td>1.41385</td>\n",
       "      <td>0.0</td>\n",
       "      <td>19.58</td>\n",
       "      <td>1</td>\n",
       "      <td>0.871</td>\n",
       "      <td>6.129</td>\n",
       "      <td>96.0</td>\n",
       "      <td>1.7494</td>\n",
       "      <td>5</td>\n",
       "      <td>403</td>\n",
       "      <td>14.7</td>\n",
       "      <td>321.02</td>\n",
       "      <td>15.12</td>\n",
       "      <td>17.0</td>\n",
       "    </tr>\n",
       "  </tbody>\n",
       "</table>\n",
       "<p>403 rows × 14 columns</p>\n",
       "</div>"
      ],
      "text/plain": [
       "         CRIM    ZN  INDUS  CHAS    NOX     RM    AGE     DIS  RAD  TAX  \\\n",
       "481   2.81838   0.0  18.10     0  0.532  5.762   40.3  4.0983   24  666   \n",
       "96    0.08187   0.0   2.89     0  0.445  7.820   36.9  3.4952    2  276   \n",
       "301   0.10000  34.0   6.09     0  0.433  6.982   17.7  5.4917    7  329   \n",
       "189   0.06911  45.0   3.44     0  0.437  6.739   30.8  6.4798    5  398   \n",
       "141   4.09740   0.0  19.58     0  0.871  5.468  100.0  1.4118    5  403   \n",
       "..        ...   ...    ...   ...    ...    ...    ...     ...  ...  ...   \n",
       "161   1.51902   0.0  19.58     1  0.605  8.375   93.9  2.1620    5  403   \n",
       "423  15.86030   0.0  18.10     0  0.679  5.896   95.4  1.9096   24  666   \n",
       "98    0.14866   0.0   8.56     0  0.520  6.727   79.9  2.7778    5  384   \n",
       "455   8.20058   0.0  18.10     0  0.713  5.936   80.3  2.7792   24  666   \n",
       "152   1.41385   0.0  19.58     1  0.871  6.129   96.0  1.7494    5  403   \n",
       "\n",
       "     PTRATIO       B  LSTAT  MEDV  \n",
       "481     20.2  392.92  10.42  21.8  \n",
       "96      18.0  393.53   3.57  43.8  \n",
       "301     16.1  390.43   4.86  33.1  \n",
       "189     15.2  389.71   4.69  30.5  \n",
       "141     14.7  396.90  26.42  15.6  \n",
       "..       ...     ...    ...   ...  \n",
       "161     14.7  388.45   3.32  50.0  \n",
       "423     20.2    7.68  24.39   8.3  \n",
       "98      20.9  394.76   9.42  27.5  \n",
       "455     20.2    3.50  16.94  13.5  \n",
       "152     14.7  321.02  15.12  17.0  \n",
       "\n",
       "[403 rows x 14 columns]"
      ]
     },
     "execution_count": 24,
     "metadata": {},
     "output_type": "execute_result"
    }
   ],
   "source": [
    "strat_train_set"
   ]
  },
  {
   "cell_type": "code",
   "execution_count": 25,
   "id": "afba9430",
   "metadata": {},
   "outputs": [
    {
     "data": {
      "text/plain": [
       "0    375\n",
       "1     28\n",
       "Name: CHAS, dtype: int64"
      ]
     },
     "execution_count": 25,
     "metadata": {},
     "output_type": "execute_result"
    }
   ],
   "source": [
    "strat_train_set['CHAS'].value_counts()"
   ]
  },
  {
   "cell_type": "code",
   "execution_count": 26,
   "id": "452fbd13",
   "metadata": {},
   "outputs": [
    {
     "data": {
      "text/plain": [
       "13.428571428571429"
      ]
     },
     "execution_count": 26,
     "metadata": {},
     "output_type": "execute_result"
    }
   ],
   "source": [
    "94/7"
   ]
  },
  {
   "cell_type": "code",
   "execution_count": 27,
   "id": "d653b31a",
   "metadata": {},
   "outputs": [
    {
     "data": {
      "text/plain": [
       "13.392857142857142"
      ]
     },
     "execution_count": 27,
     "metadata": {},
     "output_type": "execute_result"
    }
   ],
   "source": [
    "375/28"
   ]
  },
  {
   "cell_type": "code",
   "execution_count": 28,
   "id": "267a9502",
   "metadata": {},
   "outputs": [],
   "source": [
    "housing=strat_train_set.copy()"
   ]
  },
  {
   "attachments": {},
   "cell_type": "markdown",
   "id": "c398ddc1",
   "metadata": {},
   "source": [
    "## corelation"
   ]
  },
  {
   "cell_type": "code",
   "execution_count": 29,
   "id": "ac8d2773",
   "metadata": {},
   "outputs": [],
   "source": [
    "corr_matrix=housing.corr()"
   ]
  },
  {
   "cell_type": "code",
   "execution_count": 30,
   "id": "6f96b283",
   "metadata": {},
   "outputs": [
    {
     "data": {
      "text/plain": [
       "MEDV       1.000000\n",
       "RM         0.677476\n",
       "ZN         0.366222\n",
       "B          0.354238\n",
       "DIS        0.240182\n",
       "CHAS       0.205827\n",
       "RAD       -0.368821\n",
       "AGE       -0.386195\n",
       "CRIM      -0.388544\n",
       "NOX       -0.430260\n",
       "TAX       -0.457074\n",
       "INDUS     -0.472766\n",
       "PTRATIO   -0.492394\n",
       "LSTAT     -0.740323\n",
       "Name: MEDV, dtype: float64"
      ]
     },
     "execution_count": 30,
     "metadata": {},
     "output_type": "execute_result"
    }
   ],
   "source": [
    "corr_matrix['MEDV'].sort_values(ascending=False)# for knowing corelation strong positive crellation/high"
   ]
  },
  {
   "cell_type": "code",
   "execution_count": 31,
   "id": "1881e4ea",
   "metadata": {
    "scrolled": true
   },
   "outputs": [
    {
     "data": {
      "text/plain": [
       "array([[<AxesSubplot: xlabel='MEDV', ylabel='MEDV'>,\n",
       "        <AxesSubplot: xlabel='RM', ylabel='MEDV'>,\n",
       "        <AxesSubplot: xlabel='ZN', ylabel='MEDV'>,\n",
       "        <AxesSubplot: xlabel='LSTAT', ylabel='MEDV'>],\n",
       "       [<AxesSubplot: xlabel='MEDV', ylabel='RM'>,\n",
       "        <AxesSubplot: xlabel='RM', ylabel='RM'>,\n",
       "        <AxesSubplot: xlabel='ZN', ylabel='RM'>,\n",
       "        <AxesSubplot: xlabel='LSTAT', ylabel='RM'>],\n",
       "       [<AxesSubplot: xlabel='MEDV', ylabel='ZN'>,\n",
       "        <AxesSubplot: xlabel='RM', ylabel='ZN'>,\n",
       "        <AxesSubplot: xlabel='ZN', ylabel='ZN'>,\n",
       "        <AxesSubplot: xlabel='LSTAT', ylabel='ZN'>],\n",
       "       [<AxesSubplot: xlabel='MEDV', ylabel='LSTAT'>,\n",
       "        <AxesSubplot: xlabel='RM', ylabel='LSTAT'>,\n",
       "        <AxesSubplot: xlabel='ZN', ylabel='LSTAT'>,\n",
       "        <AxesSubplot: xlabel='LSTAT', ylabel='LSTAT'>]], dtype=object)"
      ]
     },
     "execution_count": 31,
     "metadata": {},
     "output_type": "execute_result"
    },
    {
     "data": {
      "image/png": "[encoded data removed]",
      "text/plain": [
       "<Figure size 1200x800 with 16 Axes>"
      ]
     },
     "metadata": {},
     "output_type": "display_data"
    }
   ],
   "source": [
    "from pandas.plotting import scatter_matrix\n",
    "attributes=[\"MEDV\",\"RM\",\"ZN\",\"LSTAT\"]\n",
    "scatter_matrix(housing[attributes],figsize=(12,8))"
   ]
  },
  {
   "cell_type": "code",
   "execution_count": 32,
   "id": "937eb223",
   "metadata": {},
   "outputs": [
    {
     "data": {
      "text/plain": [
       "<AxesSubplot: xlabel='RM', ylabel='MEDV'>"
      ]
     },
     "execution_count": 32,
     "metadata": {},
     "output_type": "execute_result"
    },
    {
     "data": {
      "image/png": "[encoded data removed]",
      "text/plain": [
       "<Figure size 640x480 with 1 Axes>"
      ]
     },
     "metadata": {},
     "output_type": "display_data"
    }
   ],
   "source": [
    "housing.plot(kind=\"scatter\",x=\"RM\",y=\"MEDV\",alpha=0.7)"
   ]
  },
  {
   "attachments": {},
   "cell_type": "markdown",
   "id": "8ca82611",
   "metadata": {},
   "source": [
    "## attribute combinations"
   ]
  },
  {
   "cell_type": "code",
   "execution_count": 33,
   "id": "125f8d35",
   "metadata": {},
   "outputs": [
    {
     "data": {
      "text/plain": [
       "MEDV       1.000000\n",
       "RM         0.677476\n",
       "ZN         0.366222\n",
       "B          0.354238\n",
       "DIS        0.240182\n",
       "CHAS       0.205827\n",
       "RAD       -0.368821\n",
       "AGE       -0.386195\n",
       "CRIM      -0.388544\n",
       "NOX       -0.430260\n",
       "TAX       -0.457074\n",
       "INDUS     -0.472766\n",
       "PTRATIO   -0.492394\n",
       "LSTAT     -0.740323\n",
       "Name: MEDV, dtype: float64"
      ]
     },
     "execution_count": 33,
     "metadata": {},
     "output_type": "execute_result"
    }
   ],
   "source": [
    "corr_matrix=housing.corr()\n",
    "housing[\"TAX_RM\"]=housing[\"TAX\"]/housing[\"RM\"]\n",
    "corr_matrix['MEDV'].sort_values(ascending=False)"
   ]
  },
  {
   "cell_type": "code",
   "execution_count": 34,
   "id": "61b35100",
   "metadata": {},
   "outputs": [
    {
     "data": {
      "text/html": [
       "<div>\n",
       "<style scoped>\n",
       "    .dataframe tbody tr th:only-of-type {\n",
       "        vertical-align: middle;\n",
       "    }\n",
       "\n",
       "    .dataframe tbody tr th {\n",
       "        vertical-align: top;\n",
       "    }\n",
       "\n",
       "    .dataframe thead th {\n",
       "        text-align: right;\n",
       "    }\n",
       "</style>\n",
       "<table border=\"1\" class=\"dataframe\">\n",
       "  <thead>\n",
       "    <tr style=\"text-align: right;\">\n",
       "      <th></th>\n",
       "      <th>CRIM</th>\n",
       "      <th>ZN</th>\n",
       "      <th>INDUS</th>\n",
       "      <th>CHAS</th>\n",
       "      <th>NOX</th>\n",
       "      <th>RM</th>\n",
       "      <th>AGE</th>\n",
       "      <th>DIS</th>\n",
       "      <th>RAD</th>\n",
       "      <th>TAX</th>\n",
       "      <th>PTRATIO</th>\n",
       "      <th>B</th>\n",
       "      <th>LSTAT</th>\n",
       "      <th>MEDV</th>\n",
       "      <th>TAX_RM</th>\n",
       "    </tr>\n",
       "  </thead>\n",
       "  <tbody>\n",
       "    <tr>\n",
       "      <th>481</th>\n",
       "      <td>2.81838</td>\n",
       "      <td>0.0</td>\n",
       "      <td>18.10</td>\n",
       "      <td>0</td>\n",
       "      <td>0.532</td>\n",
       "      <td>5.762</td>\n",
       "      <td>40.3</td>\n",
       "      <td>4.0983</td>\n",
       "      <td>24</td>\n",
       "      <td>666</td>\n",
       "      <td>20.2</td>\n",
       "      <td>392.92</td>\n",
       "      <td>10.42</td>\n",
       "      <td>21.8</td>\n",
       "      <td>115.584866</td>\n",
       "    </tr>\n",
       "    <tr>\n",
       "      <th>96</th>\n",
       "      <td>0.08187</td>\n",
       "      <td>0.0</td>\n",
       "      <td>2.89</td>\n",
       "      <td>0</td>\n",
       "      <td>0.445</td>\n",
       "      <td>7.820</td>\n",
       "      <td>36.9</td>\n",
       "      <td>3.4952</td>\n",
       "      <td>2</td>\n",
       "      <td>276</td>\n",
       "      <td>18.0</td>\n",
       "      <td>393.53</td>\n",
       "      <td>3.57</td>\n",
       "      <td>43.8</td>\n",
       "      <td>35.294118</td>\n",
       "    </tr>\n",
       "    <tr>\n",
       "      <th>301</th>\n",
       "      <td>0.10000</td>\n",
       "      <td>34.0</td>\n",
       "      <td>6.09</td>\n",
       "      <td>0</td>\n",
       "      <td>0.433</td>\n",
       "      <td>6.982</td>\n",
       "      <td>17.7</td>\n",
       "      <td>5.4917</td>\n",
       "      <td>7</td>\n",
       "      <td>329</td>\n",
       "      <td>16.1</td>\n",
       "      <td>390.43</td>\n",
       "      <td>4.86</td>\n",
       "      <td>33.1</td>\n",
       "      <td>47.121169</td>\n",
       "    </tr>\n",
       "    <tr>\n",
       "      <th>189</th>\n",
       "      <td>0.06911</td>\n",
       "      <td>45.0</td>\n",
       "      <td>3.44</td>\n",
       "      <td>0</td>\n",
       "      <td>0.437</td>\n",
       "      <td>6.739</td>\n",
       "      <td>30.8</td>\n",
       "      <td>6.4798</td>\n",
       "      <td>5</td>\n",
       "      <td>398</td>\n",
       "      <td>15.2</td>\n",
       "      <td>389.71</td>\n",
       "      <td>4.69</td>\n",
       "      <td>30.5</td>\n",
       "      <td>59.059208</td>\n",
       "    </tr>\n",
       "    <tr>\n",
       "      <th>141</th>\n",
       "      <td>4.09740</td>\n",
       "      <td>0.0</td>\n",
       "      <td>19.58</td>\n",
       "      <td>0</td>\n",
       "      <td>0.871</td>\n",
       "      <td>5.468</td>\n",
       "      <td>100.0</td>\n",
       "      <td>1.4118</td>\n",
       "      <td>5</td>\n",
       "      <td>403</td>\n",
       "      <td>14.7</td>\n",
       "      <td>396.90</td>\n",
       "      <td>26.42</td>\n",
       "      <td>15.6</td>\n",
       "      <td>73.701536</td>\n",
       "    </tr>\n",
       "  </tbody>\n",
       "</table>\n",
       "</div>"
      ],
      "text/plain": [
       "        CRIM    ZN  INDUS  CHAS    NOX     RM    AGE     DIS  RAD  TAX  \\\n",
       "481  2.81838   0.0  18.10     0  0.532  5.762   40.3  4.0983   24  666   \n",
       "96   0.08187   0.0   2.89     0  0.445  7.820   36.9  3.4952    2  276   \n",
       "301  0.10000  34.0   6.09     0  0.433  6.982   17.7  5.4917    7  329   \n",
       "189  0.06911  45.0   3.44     0  0.437  6.739   30.8  6.4798    5  398   \n",
       "141  4.09740   0.0  19.58     0  0.871  5.468  100.0  1.4118    5  403   \n",
       "\n",
       "     PTRATIO       B  LSTAT  MEDV      TAX_RM  \n",
       "481     20.2  392.92  10.42  21.8  115.584866  \n",
       "96      18.0  393.53   3.57  43.8   35.294118  \n",
       "301     16.1  390.43   4.86  33.1   47.121169  \n",
       "189     15.2  389.71   4.69  30.5   59.059208  \n",
       "141     14.7  396.90  26.42  15.6   73.701536  "
      ]
     },
     "execution_count": 34,
     "metadata": {},
     "output_type": "execute_result"
    }
   ],
   "source": [
    "housing.head()"
   ]
  },
  {
   "cell_type": "code",
   "execution_count": 35,
   "id": "2b81b239",
   "metadata": {},
   "outputs": [
    {
     "data": {
      "text/plain": [
       "MEDV       1.000000\n",
       "RM         0.677476\n",
       "ZN         0.366222\n",
       "B          0.354238\n",
       "DIS        0.240182\n",
       "CHAS       0.205827\n",
       "RAD       -0.368821\n",
       "AGE       -0.386195\n",
       "CRIM      -0.388544\n",
       "NOX       -0.430260\n",
       "TAX       -0.457074\n",
       "INDUS     -0.472766\n",
       "PTRATIO   -0.492394\n",
       "LSTAT     -0.740323\n",
       "Name: MEDV, dtype: float64"
      ]
     },
     "execution_count": 35,
     "metadata": {},
     "output_type": "execute_result"
    }
   ],
   "source": [
    "corr_matrix['MEDV'].sort_values(ascending=False)"
   ]
  },
  {
   "cell_type": "code",
   "execution_count": 36,
   "id": "061828e0",
   "metadata": {},
   "outputs": [
    {
     "data": {
      "text/plain": [
       "MEDV       1.000000\n",
       "RM         0.677476\n",
       "ZN         0.366222\n",
       "B          0.354238\n",
       "DIS        0.240182\n",
       "CHAS       0.205827\n",
       "RAD       -0.368821\n",
       "AGE       -0.386195\n",
       "CRIM      -0.388544\n",
       "NOX       -0.430260\n",
       "TAX       -0.457074\n",
       "INDUS     -0.472766\n",
       "PTRATIO   -0.492394\n",
       "TAX_RM    -0.521404\n",
       "LSTAT     -0.740323\n",
       "Name: MEDV, dtype: float64"
      ]
     },
     "execution_count": 36,
     "metadata": {},
     "output_type": "execute_result"
    }
   ],
   "source": [
    "corr_matrix=housing.corr()\n",
    "housing[\"TAX_RM\"]=housing[\"TAX\"]/housing[\"RM\"]\n",
    "corr_matrix['MEDV'].sort_values(ascending=False)"
   ]
  },
  {
   "cell_type": "code",
   "execution_count": 37,
   "id": "665e90bc",
   "metadata": {},
   "outputs": [
    {
     "data": {
      "text/plain": [
       "<AxesSubplot: xlabel='TAX_RM', ylabel='MEDV'>"
      ]
     },
     "execution_count": 37,
     "metadata": {},
     "output_type": "execute_result"
    },
    {
     "data": {
      "image/png": "[encoded data removed]",
      "text/plain": [
       "<Figure size 640x480 with 1 Axes>"
      ]
     },
     "metadata": {},
     "output_type": "display_data"
    }
   ],
   "source": [
    "housing.plot(kind=\"scatter\",x=\"TAX_RM\",y=\"MEDV\",alpha=0.7)"
   ]
  },
  {
   "cell_type": "code",
   "execution_count": 38,
   "id": "5fda49c9",
   "metadata": {},
   "outputs": [],
   "source": [
    "housing=strat_train_set.drop(\"MEDV\",axis=1)\n",
    "housing_labels=strat_train_set[\"MEDV\"].copy()"
   ]
  },
  {
   "cell_type": "code",
   "execution_count": 39,
   "id": "59114846",
   "metadata": {},
   "outputs": [],
   "source": [
    "# To take care of missing attributes\n",
    "# get rid of missing data points\n",
    "# get rid of whole attribute\n",
    "# set to mean/median\n"
   ]
  },
  {
   "cell_type": "code",
   "execution_count": 40,
   "id": "78ff7805",
   "metadata": {},
   "outputs": [
    {
     "data": {
      "text/html": [
       "<div>\n",
       "<style scoped>\n",
       "    .dataframe tbody tr th:only-of-type {\n",
       "        vertical-align: middle;\n",
       "    }\n",
       "\n",
       "    .dataframe tbody tr th {\n",
       "        vertical-align: top;\n",
       "    }\n",
       "\n",
       "    .dataframe thead th {\n",
       "        text-align: right;\n",
       "    }\n",
       "</style>\n",
       "<table border=\"1\" class=\"dataframe\">\n",
       "  <thead>\n",
       "    <tr style=\"text-align: right;\">\n",
       "      <th></th>\n",
       "      <th>CRIM</th>\n",
       "      <th>ZN</th>\n",
       "      <th>INDUS</th>\n",
       "      <th>CHAS</th>\n",
       "      <th>NOX</th>\n",
       "      <th>RM</th>\n",
       "      <th>AGE</th>\n",
       "      <th>DIS</th>\n",
       "      <th>RAD</th>\n",
       "      <th>TAX</th>\n",
       "      <th>PTRATIO</th>\n",
       "      <th>B</th>\n",
       "      <th>LSTAT</th>\n",
       "    </tr>\n",
       "  </thead>\n",
       "  <tbody>\n",
       "    <tr>\n",
       "      <th>count</th>\n",
       "      <td>403.000000</td>\n",
       "      <td>403.000000</td>\n",
       "      <td>403.000000</td>\n",
       "      <td>403.000000</td>\n",
       "      <td>403.000000</td>\n",
       "      <td>401.000000</td>\n",
       "      <td>403.000000</td>\n",
       "      <td>403.000000</td>\n",
       "      <td>403.000000</td>\n",
       "      <td>403.000000</td>\n",
       "      <td>403.000000</td>\n",
       "      <td>403.000000</td>\n",
       "      <td>403.000000</td>\n",
       "    </tr>\n",
       "    <tr>\n",
       "      <th>mean</th>\n",
       "      <td>3.596690</td>\n",
       "      <td>10.296526</td>\n",
       "      <td>11.346377</td>\n",
       "      <td>0.069479</td>\n",
       "      <td>0.557960</td>\n",
       "      <td>6.268152</td>\n",
       "      <td>69.162035</td>\n",
       "      <td>3.765698</td>\n",
       "      <td>9.707196</td>\n",
       "      <td>411.052109</td>\n",
       "      <td>18.501985</td>\n",
       "      <td>353.137742</td>\n",
       "      <td>12.848834</td>\n",
       "    </tr>\n",
       "    <tr>\n",
       "      <th>std</th>\n",
       "      <td>8.150279</td>\n",
       "      <td>21.888189</td>\n",
       "      <td>6.789662</td>\n",
       "      <td>0.254583</td>\n",
       "      <td>0.118018</td>\n",
       "      <td>0.706032</td>\n",
       "      <td>28.012897</td>\n",
       "      <td>2.093371</td>\n",
       "      <td>8.767513</td>\n",
       "      <td>168.569235</td>\n",
       "      <td>2.107767</td>\n",
       "      <td>95.711037</td>\n",
       "      <td>7.180762</td>\n",
       "    </tr>\n",
       "    <tr>\n",
       "      <th>min</th>\n",
       "      <td>0.006320</td>\n",
       "      <td>0.000000</td>\n",
       "      <td>0.460000</td>\n",
       "      <td>0.000000</td>\n",
       "      <td>0.389000</td>\n",
       "      <td>3.561000</td>\n",
       "      <td>2.900000</td>\n",
       "      <td>1.129600</td>\n",
       "      <td>1.000000</td>\n",
       "      <td>187.000000</td>\n",
       "      <td>13.000000</td>\n",
       "      <td>2.520000</td>\n",
       "      <td>1.730000</td>\n",
       "    </tr>\n",
       "    <tr>\n",
       "      <th>25%</th>\n",
       "      <td>0.087665</td>\n",
       "      <td>0.000000</td>\n",
       "      <td>5.255000</td>\n",
       "      <td>0.000000</td>\n",
       "      <td>0.449000</td>\n",
       "      <td>5.878000</td>\n",
       "      <td>46.050000</td>\n",
       "      <td>2.094100</td>\n",
       "      <td>4.000000</td>\n",
       "      <td>284.000000</td>\n",
       "      <td>17.400000</td>\n",
       "      <td>374.695000</td>\n",
       "      <td>7.130000</td>\n",
       "    </tr>\n",
       "    <tr>\n",
       "      <th>50%</th>\n",
       "      <td>0.279570</td>\n",
       "      <td>0.000000</td>\n",
       "      <td>9.900000</td>\n",
       "      <td>0.000000</td>\n",
       "      <td>0.538000</td>\n",
       "      <td>6.185000</td>\n",
       "      <td>78.700000</td>\n",
       "      <td>3.215700</td>\n",
       "      <td>5.000000</td>\n",
       "      <td>335.000000</td>\n",
       "      <td>19.100000</td>\n",
       "      <td>391.000000</td>\n",
       "      <td>11.970000</td>\n",
       "    </tr>\n",
       "    <tr>\n",
       "      <th>75%</th>\n",
       "      <td>3.805910</td>\n",
       "      <td>12.500000</td>\n",
       "      <td>18.100000</td>\n",
       "      <td>0.000000</td>\n",
       "      <td>0.631000</td>\n",
       "      <td>6.618000</td>\n",
       "      <td>94.100000</td>\n",
       "      <td>5.117350</td>\n",
       "      <td>24.000000</td>\n",
       "      <td>666.000000</td>\n",
       "      <td>20.200000</td>\n",
       "      <td>395.720000</td>\n",
       "      <td>17.095000</td>\n",
       "    </tr>\n",
       "    <tr>\n",
       "      <th>max</th>\n",
       "      <td>73.534100</td>\n",
       "      <td>100.000000</td>\n",
       "      <td>27.740000</td>\n",
       "      <td>1.000000</td>\n",
       "      <td>0.871000</td>\n",
       "      <td>8.780000</td>\n",
       "      <td>100.000000</td>\n",
       "      <td>12.126500</td>\n",
       "      <td>24.000000</td>\n",
       "      <td>711.000000</td>\n",
       "      <td>22.000000</td>\n",
       "      <td>396.900000</td>\n",
       "      <td>36.980000</td>\n",
       "    </tr>\n",
       "  </tbody>\n",
       "</table>\n",
       "</div>"
      ],
      "text/plain": [
       "             CRIM          ZN       INDUS        CHAS         NOX          RM  \\\n",
       "count  403.000000  403.000000  403.000000  403.000000  403.000000  401.000000   \n",
       "mean     3.596690   10.296526   11.346377    0.069479    0.557960    6.268152   \n",
       "std      8.150279   21.888189    6.789662    0.254583    0.118018    0.706032   \n",
       "min      0.006320    0.000000    0.460000    0.000000    0.389000    3.561000   \n",
       "25%      0.087665    0.000000    5.255000    0.000000    0.449000    5.878000   \n",
       "50%      0.279570    0.000000    9.900000    0.000000    0.538000    6.185000   \n",
       "75%      3.805910   12.500000   18.100000    0.000000    0.631000    6.618000   \n",
       "max     73.534100  100.000000   27.740000    1.000000    0.871000    8.780000   \n",
       "\n",
       "              AGE         DIS         RAD         TAX     PTRATIO           B  \\\n",
       "count  403.000000  403.000000  403.000000  403.000000  403.000000  403.000000   \n",
       "mean    69.162035    3.765698    9.707196  411.052109   18.501985  353.137742   \n",
       "std     28.012897    2.093371    8.767513  168.569235    2.107767   95.711037   \n",
       "min      2.900000    1.129600    1.000000  187.000000   13.000000    2.520000   \n",
       "25%     46.050000    2.094100    4.000000  284.000000   17.400000  374.695000   \n",
       "50%     78.700000    3.215700    5.000000  335.000000   19.100000  391.000000   \n",
       "75%     94.100000    5.117350   24.000000  666.000000   20.200000  395.720000   \n",
       "max    100.000000   12.126500   24.000000  711.000000   22.000000  396.900000   \n",
       "\n",
       "            LSTAT  \n",
       "count  403.000000  \n",
       "mean    12.848834  \n",
       "std      7.180762  \n",
       "min      1.730000  \n",
       "25%      7.130000  \n",
       "50%     11.970000  \n",
       "75%     17.095000  \n",
       "max     36.980000  "
      ]
     },
     "execution_count": 40,
     "metadata": {},
     "output_type": "execute_result"
    }
   ],
   "source": [
    "housing.describe()"
   ]
  },
  {
   "cell_type": "code",
   "execution_count": 41,
   "id": "10aab327",
   "metadata": {},
   "outputs": [
    {
     "data": {
      "text/plain": [
       "(401, 13)"
      ]
     },
     "execution_count": 41,
     "metadata": {},
     "output_type": "execute_result"
    }
   ],
   "source": [
    "a=housing.dropna(subset=[\"RM\"])\n",
    "a.shape"
   ]
  },
  {
   "cell_type": "code",
   "execution_count": 42,
   "id": "4c7ba94e",
   "metadata": {},
   "outputs": [
    {
     "data": {
      "text/html": [
       "<div>\n",
       "<style scoped>\n",
       "    .dataframe tbody tr th:only-of-type {\n",
       "        vertical-align: middle;\n",
       "    }\n",
       "\n",
       "    .dataframe tbody tr th {\n",
       "        vertical-align: top;\n",
       "    }\n",
       "\n",
       "    .dataframe thead th {\n",
       "        text-align: right;\n",
       "    }\n",
       "</style>\n",
       "<table border=\"1\" class=\"dataframe\">\n",
       "  <thead>\n",
       "    <tr style=\"text-align: right;\">\n",
       "      <th></th>\n",
       "      <th>CRIM</th>\n",
       "      <th>ZN</th>\n",
       "      <th>INDUS</th>\n",
       "      <th>CHAS</th>\n",
       "      <th>NOX</th>\n",
       "      <th>RM</th>\n",
       "      <th>AGE</th>\n",
       "      <th>DIS</th>\n",
       "      <th>RAD</th>\n",
       "      <th>TAX</th>\n",
       "      <th>PTRATIO</th>\n",
       "      <th>B</th>\n",
       "      <th>LSTAT</th>\n",
       "    </tr>\n",
       "  </thead>\n",
       "  <tbody>\n",
       "    <tr>\n",
       "      <th>481</th>\n",
       "      <td>2.81838</td>\n",
       "      <td>0.0</td>\n",
       "      <td>18.10</td>\n",
       "      <td>0</td>\n",
       "      <td>0.532</td>\n",
       "      <td>5.762</td>\n",
       "      <td>40.3</td>\n",
       "      <td>4.0983</td>\n",
       "      <td>24</td>\n",
       "      <td>666</td>\n",
       "      <td>20.2</td>\n",
       "      <td>392.92</td>\n",
       "      <td>10.42</td>\n",
       "    </tr>\n",
       "    <tr>\n",
       "      <th>96</th>\n",
       "      <td>0.08187</td>\n",
       "      <td>0.0</td>\n",
       "      <td>2.89</td>\n",
       "      <td>0</td>\n",
       "      <td>0.445</td>\n",
       "      <td>7.820</td>\n",
       "      <td>36.9</td>\n",
       "      <td>3.4952</td>\n",
       "      <td>2</td>\n",
       "      <td>276</td>\n",
       "      <td>18.0</td>\n",
       "      <td>393.53</td>\n",
       "      <td>3.57</td>\n",
       "    </tr>\n",
       "    <tr>\n",
       "      <th>301</th>\n",
       "      <td>0.10000</td>\n",
       "      <td>34.0</td>\n",
       "      <td>6.09</td>\n",
       "      <td>0</td>\n",
       "      <td>0.433</td>\n",
       "      <td>6.982</td>\n",
       "      <td>17.7</td>\n",
       "      <td>5.4917</td>\n",
       "      <td>7</td>\n",
       "      <td>329</td>\n",
       "      <td>16.1</td>\n",
       "      <td>390.43</td>\n",
       "      <td>4.86</td>\n",
       "    </tr>\n",
       "    <tr>\n",
       "      <th>189</th>\n",
       "      <td>0.06911</td>\n",
       "      <td>45.0</td>\n",
       "      <td>3.44</td>\n",
       "      <td>0</td>\n",
       "      <td>0.437</td>\n",
       "      <td>6.739</td>\n",
       "      <td>30.8</td>\n",
       "      <td>6.4798</td>\n",
       "      <td>5</td>\n",
       "      <td>398</td>\n",
       "      <td>15.2</td>\n",
       "      <td>389.71</td>\n",
       "      <td>4.69</td>\n",
       "    </tr>\n",
       "    <tr>\n",
       "      <th>141</th>\n",
       "      <td>4.09740</td>\n",
       "      <td>0.0</td>\n",
       "      <td>19.58</td>\n",
       "      <td>0</td>\n",
       "      <td>0.871</td>\n",
       "      <td>5.468</td>\n",
       "      <td>100.0</td>\n",
       "      <td>1.4118</td>\n",
       "      <td>5</td>\n",
       "      <td>403</td>\n",
       "      <td>14.7</td>\n",
       "      <td>396.90</td>\n",
       "      <td>26.42</td>\n",
       "    </tr>\n",
       "  </tbody>\n",
       "</table>\n",
       "</div>"
      ],
      "text/plain": [
       "        CRIM    ZN  INDUS  CHAS    NOX     RM    AGE     DIS  RAD  TAX  \\\n",
       "481  2.81838   0.0  18.10     0  0.532  5.762   40.3  4.0983   24  666   \n",
       "96   0.08187   0.0   2.89     0  0.445  7.820   36.9  3.4952    2  276   \n",
       "301  0.10000  34.0   6.09     0  0.433  6.982   17.7  5.4917    7  329   \n",
       "189  0.06911  45.0   3.44     0  0.437  6.739   30.8  6.4798    5  398   \n",
       "141  4.09740   0.0  19.58     0  0.871  5.468  100.0  1.4118    5  403   \n",
       "\n",
       "     PTRATIO       B  LSTAT  \n",
       "481     20.2  392.92  10.42  \n",
       "96      18.0  393.53   3.57  \n",
       "301     16.1  390.43   4.86  \n",
       "189     15.2  389.71   4.69  \n",
       "141     14.7  396.90  26.42  "
      ]
     },
     "execution_count": 42,
     "metadata": {},
     "output_type": "execute_result"
    }
   ],
   "source": [
    "housing.head()"
   ]
  },
  {
   "cell_type": "code",
   "execution_count": 43,
   "id": "84bf96cf",
   "metadata": {},
   "outputs": [
    {
     "data": {
      "text/html": [
       "<div>\n",
       "<style scoped>\n",
       "    .dataframe tbody tr th:only-of-type {\n",
       "        vertical-align: middle;\n",
       "    }\n",
       "\n",
       "    .dataframe tbody tr th {\n",
       "        vertical-align: top;\n",
       "    }\n",
       "\n",
       "    .dataframe thead th {\n",
       "        text-align: right;\n",
       "    }\n",
       "</style>\n",
       "<table border=\"1\" class=\"dataframe\">\n",
       "  <thead>\n",
       "    <tr style=\"text-align: right;\">\n",
       "      <th></th>\n",
       "      <th>CRIM</th>\n",
       "      <th>ZN</th>\n",
       "      <th>INDUS</th>\n",
       "      <th>CHAS</th>\n",
       "      <th>NOX</th>\n",
       "      <th>AGE</th>\n",
       "      <th>DIS</th>\n",
       "      <th>RAD</th>\n",
       "      <th>TAX</th>\n",
       "      <th>PTRATIO</th>\n",
       "      <th>B</th>\n",
       "      <th>LSTAT</th>\n",
       "    </tr>\n",
       "  </thead>\n",
       "  <tbody>\n",
       "    <tr>\n",
       "      <th>481</th>\n",
       "      <td>2.81838</td>\n",
       "      <td>0.0</td>\n",
       "      <td>18.10</td>\n",
       "      <td>0</td>\n",
       "      <td>0.532</td>\n",
       "      <td>40.3</td>\n",
       "      <td>4.0983</td>\n",
       "      <td>24</td>\n",
       "      <td>666</td>\n",
       "      <td>20.2</td>\n",
       "      <td>392.92</td>\n",
       "      <td>10.42</td>\n",
       "    </tr>\n",
       "    <tr>\n",
       "      <th>96</th>\n",
       "      <td>0.08187</td>\n",
       "      <td>0.0</td>\n",
       "      <td>2.89</td>\n",
       "      <td>0</td>\n",
       "      <td>0.445</td>\n",
       "      <td>36.9</td>\n",
       "      <td>3.4952</td>\n",
       "      <td>2</td>\n",
       "      <td>276</td>\n",
       "      <td>18.0</td>\n",
       "      <td>393.53</td>\n",
       "      <td>3.57</td>\n",
       "    </tr>\n",
       "    <tr>\n",
       "      <th>301</th>\n",
       "      <td>0.10000</td>\n",
       "      <td>34.0</td>\n",
       "      <td>6.09</td>\n",
       "      <td>0</td>\n",
       "      <td>0.433</td>\n",
       "      <td>17.7</td>\n",
       "      <td>5.4917</td>\n",
       "      <td>7</td>\n",
       "      <td>329</td>\n",
       "      <td>16.1</td>\n",
       "      <td>390.43</td>\n",
       "      <td>4.86</td>\n",
       "    </tr>\n",
       "    <tr>\n",
       "      <th>189</th>\n",
       "      <td>0.06911</td>\n",
       "      <td>45.0</td>\n",
       "      <td>3.44</td>\n",
       "      <td>0</td>\n",
       "      <td>0.437</td>\n",
       "      <td>30.8</td>\n",
       "      <td>6.4798</td>\n",
       "      <td>5</td>\n",
       "      <td>398</td>\n",
       "      <td>15.2</td>\n",
       "      <td>389.71</td>\n",
       "      <td>4.69</td>\n",
       "    </tr>\n",
       "    <tr>\n",
       "      <th>141</th>\n",
       "      <td>4.09740</td>\n",
       "      <td>0.0</td>\n",
       "      <td>19.58</td>\n",
       "      <td>0</td>\n",
       "      <td>0.871</td>\n",
       "      <td>100.0</td>\n",
       "      <td>1.4118</td>\n",
       "      <td>5</td>\n",
       "      <td>403</td>\n",
       "      <td>14.7</td>\n",
       "      <td>396.90</td>\n",
       "      <td>26.42</td>\n",
       "    </tr>\n",
       "    <tr>\n",
       "      <th>...</th>\n",
       "      <td>...</td>\n",
       "      <td>...</td>\n",
       "      <td>...</td>\n",
       "      <td>...</td>\n",
       "      <td>...</td>\n",
       "      <td>...</td>\n",
       "      <td>...</td>\n",
       "      <td>...</td>\n",
       "      <td>...</td>\n",
       "      <td>...</td>\n",
       "      <td>...</td>\n",
       "      <td>...</td>\n",
       "    </tr>\n",
       "    <tr>\n",
       "      <th>161</th>\n",
       "      <td>1.51902</td>\n",
       "      <td>0.0</td>\n",
       "      <td>19.58</td>\n",
       "      <td>1</td>\n",
       "      <td>0.605</td>\n",
       "      <td>93.9</td>\n",
       "      <td>2.1620</td>\n",
       "      <td>5</td>\n",
       "      <td>403</td>\n",
       "      <td>14.7</td>\n",
       "      <td>388.45</td>\n",
       "      <td>3.32</td>\n",
       "    </tr>\n",
       "    <tr>\n",
       "      <th>423</th>\n",
       "      <td>15.86030</td>\n",
       "      <td>0.0</td>\n",
       "      <td>18.10</td>\n",
       "      <td>0</td>\n",
       "      <td>0.679</td>\n",
       "      <td>95.4</td>\n",
       "      <td>1.9096</td>\n",
       "      <td>24</td>\n",
       "      <td>666</td>\n",
       "      <td>20.2</td>\n",
       "      <td>7.68</td>\n",
       "      <td>24.39</td>\n",
       "    </tr>\n",
       "    <tr>\n",
       "      <th>98</th>\n",
       "      <td>0.14866</td>\n",
       "      <td>0.0</td>\n",
       "      <td>8.56</td>\n",
       "      <td>0</td>\n",
       "      <td>0.520</td>\n",
       "      <td>79.9</td>\n",
       "      <td>2.7778</td>\n",
       "      <td>5</td>\n",
       "      <td>384</td>\n",
       "      <td>20.9</td>\n",
       "      <td>394.76</td>\n",
       "      <td>9.42</td>\n",
       "    </tr>\n",
       "    <tr>\n",
       "      <th>455</th>\n",
       "      <td>8.20058</td>\n",
       "      <td>0.0</td>\n",
       "      <td>18.10</td>\n",
       "      <td>0</td>\n",
       "      <td>0.713</td>\n",
       "      <td>80.3</td>\n",
       "      <td>2.7792</td>\n",
       "      <td>24</td>\n",
       "      <td>666</td>\n",
       "      <td>20.2</td>\n",
       "      <td>3.50</td>\n",
       "      <td>16.94</td>\n",
       "    </tr>\n",
       "    <tr>\n",
       "      <th>152</th>\n",
       "      <td>1.41385</td>\n",
       "      <td>0.0</td>\n",
       "      <td>19.58</td>\n",
       "      <td>1</td>\n",
       "      <td>0.871</td>\n",
       "      <td>96.0</td>\n",
       "      <td>1.7494</td>\n",
       "      <td>5</td>\n",
       "      <td>403</td>\n",
       "      <td>14.7</td>\n",
       "      <td>321.02</td>\n",
       "      <td>15.12</td>\n",
       "    </tr>\n",
       "  </tbody>\n",
       "</table>\n",
       "<p>403 rows × 12 columns</p>\n",
       "</div>"
      ],
      "text/plain": [
       "         CRIM    ZN  INDUS  CHAS    NOX    AGE     DIS  RAD  TAX  PTRATIO  \\\n",
       "481   2.81838   0.0  18.10     0  0.532   40.3  4.0983   24  666     20.2   \n",
       "96    0.08187   0.0   2.89     0  0.445   36.9  3.4952    2  276     18.0   \n",
       "301   0.10000  34.0   6.09     0  0.433   17.7  5.4917    7  329     16.1   \n",
       "189   0.06911  45.0   3.44     0  0.437   30.8  6.4798    5  398     15.2   \n",
       "141   4.09740   0.0  19.58     0  0.871  100.0  1.4118    5  403     14.7   \n",
       "..        ...   ...    ...   ...    ...    ...     ...  ...  ...      ...   \n",
       "161   1.51902   0.0  19.58     1  0.605   93.9  2.1620    5  403     14.7   \n",
       "423  15.86030   0.0  18.10     0  0.679   95.4  1.9096   24  666     20.2   \n",
       "98    0.14866   0.0   8.56     0  0.520   79.9  2.7778    5  384     20.9   \n",
       "455   8.20058   0.0  18.10     0  0.713   80.3  2.7792   24  666     20.2   \n",
       "152   1.41385   0.0  19.58     1  0.871   96.0  1.7494    5  403     14.7   \n",
       "\n",
       "          B  LSTAT  \n",
       "481  392.92  10.42  \n",
       "96   393.53   3.57  \n",
       "301  390.43   4.86  \n",
       "189  389.71   4.69  \n",
       "141  396.90  26.42  \n",
       "..      ...    ...  \n",
       "161  388.45   3.32  \n",
       "423    7.68  24.39  \n",
       "98   394.76   9.42  \n",
       "455    3.50  16.94  \n",
       "152  321.02  15.12  \n",
       "\n",
       "[403 rows x 12 columns]"
      ]
     },
     "execution_count": 43,
     "metadata": {},
     "output_type": "execute_result"
    }
   ],
   "source": [
    "housing.drop(\"RM\",axis=1)#no rm column"
   ]
  },
  {
   "cell_type": "code",
   "execution_count": 44,
   "id": "a783118d",
   "metadata": {},
   "outputs": [],
   "source": [
    "median=housing[\"RM\"].median()"
   ]
  },
  {
   "cell_type": "code",
   "execution_count": 45,
   "id": "6bfe461b",
   "metadata": {},
   "outputs": [
    {
     "data": {
      "text/plain": [
       "6.185"
      ]
     },
     "execution_count": 45,
     "metadata": {},
     "output_type": "execute_result"
    }
   ],
   "source": [
    "median"
   ]
  },
  {
   "cell_type": "code",
   "execution_count": 46,
   "id": "6a8612de",
   "metadata": {},
   "outputs": [
    {
     "data": {
      "text/plain": [
       "481    5.762\n",
       "96     7.820\n",
       "301    6.982\n",
       "189    6.739\n",
       "141    5.468\n",
       "       ...  \n",
       "161    8.375\n",
       "423    5.896\n",
       "98     6.727\n",
       "455    5.936\n",
       "152    6.129\n",
       "Name: RM, Length: 403, dtype: float64"
      ]
     },
     "execution_count": 46,
     "metadata": {},
     "output_type": "execute_result"
    }
   ],
   "source": [
    "housing[\"RM\"].fillna(median)"
   ]
  },
  {
   "cell_type": "code",
   "execution_count": 47,
   "id": "699b1ca0",
   "metadata": {},
   "outputs": [
    {
     "data": {
      "text/plain": [
       "(403, 13)"
      ]
     },
     "execution_count": 47,
     "metadata": {},
     "output_type": "execute_result"
    }
   ],
   "source": [
    "housing.shape"
   ]
  },
  {
   "cell_type": "code",
   "execution_count": 48,
   "id": "bf63748f",
   "metadata": {},
   "outputs": [
    {
     "data": {
      "text/html": [
       "<style>#sk-container-id-1 {color: black;background-color: white;}#sk-container-id-1 pre{padding: 0;}#sk-container-id-1 div.sk-toggleable {background-color: white;}#sk-container-id-1 label.sk-toggleable__label {cursor: pointer;display: block;width: 100%;margin-bottom: 0;padding: 0.3em;box-sizing: border-box;text-align: center;}#sk-container-id-1 label.sk-toggleable__label-arrow:before {content: \"▸\";float: left;margin-right: 0.25em;color: #696969;}#sk-container-id-1 label.sk-toggleable__label-arrow:hover:before {color: black;}#sk-container-id-1 div.sk-estimator:hover label.sk-toggleable__label-arrow:before {color: black;}#sk-container-id-1 div.sk-toggleable__content {max-height: 0;max-width: 0;overflow: hidden;text-align: left;background-color: #f0f8ff;}#sk-container-id-1 div.sk-toggleable__content pre {margin: 0.2em;color: black;border-radius: 0.25em;background-color: #f0f8ff;}#sk-container-id-1 input.sk-toggleable__control:checked~div.sk-toggleable__content {max-height: 200px;max-width: 100%;overflow: auto;}#sk-container-id-1 input.sk-toggleable__control:checked~label.sk-toggleable__label-arrow:before {content: \"▾\";}#sk-container-id-1 div.sk-estimator input.sk-toggleable__control:checked~label.sk-toggleable__label {background-color: #d4ebff;}#sk-container-id-1 div.sk-label input.sk-toggleable__control:checked~label.sk-toggleable__label {background-color: #d4ebff;}#sk-container-id-1 input.sk-hidden--visually {border: 0;clip: rect(1px 1px 1px 1px);clip: rect(1px, 1px, 1px, 1px);height: 1px;margin: -1px;overflow: hidden;padding: 0;position: absolute;width: 1px;}#sk-container-id-1 div.sk-estimator {font-family: monospace;background-color: #f0f8ff;border: 1px dotted black;border-radius: 0.25em;box-sizing: border-box;margin-bottom: 0.5em;}#sk-container-id-1 div.sk-estimator:hover {background-color: #d4ebff;}#sk-container-id-1 div.sk-parallel-item::after {content: \"\";width: 100%;border-bottom: 1px solid gray;flex-grow: 1;}#sk-container-id-1 div.sk-label:hover label.sk-toggleable__label {background-color: #d4ebff;}#sk-container-id-1 div.sk-serial::before {content: \"\";position: absolute;border-left: 1px solid gray;box-sizing: border-box;top: 0;bottom: 0;left: 50%;z-index: 0;}#sk-container-id-1 div.sk-serial {display: flex;flex-direction: column;align-items: center;background-color: white;padding-right: 0.2em;padding-left: 0.2em;position: relative;}#sk-container-id-1 div.sk-item {position: relative;z-index: 1;}#sk-container-id-1 div.sk-parallel {display: flex;align-items: stretch;justify-content: center;background-color: white;position: relative;}#sk-container-id-1 div.sk-item::before, #sk-container-id-1 div.sk-parallel-item::before {content: \"\";position: absolute;border-left: 1px solid gray;box-sizing: border-box;top: 0;bottom: 0;left: 50%;z-index: -1;}#sk-container-id-1 div.sk-parallel-item {display: flex;flex-direction: column;z-index: 1;position: relative;background-color: white;}#sk-container-id-1 div.sk-parallel-item:first-child::after {align-self: flex-end;width: 50%;}#sk-container-id-1 div.sk-parallel-item:last-child::after {align-self: flex-start;width: 50%;}#sk-container-id-1 div.sk-parallel-item:only-child::after {width: 0;}#sk-container-id-1 div.sk-dashed-wrapped {border: 1px dashed gray;margin: 0 0.4em 0.5em 0.4em;box-sizing: border-box;padding-bottom: 0.4em;background-color: white;}#sk-container-id-1 div.sk-label label {font-family: monospace;font-weight: bold;display: inline-block;line-height: 1.2em;}#sk-container-id-1 div.sk-label-container {text-align: center;}#sk-container-id-1 div.sk-container {/* jupyter's `normalize.less` sets `[hidden] { display: none; }` but bootstrap.min.css set `[hidden] { display: none !important; }` so we also need the `!important` here to be able to override the default hidden behavior on the sphinx rendered scikit-learn.org. See: https://github.com/scikit-learn/scikit-learn/issues/21755 */display: inline-block !important;position: relative;}#sk-container-id-1 div.sk-text-repr-fallback {display: none;}</style><div id=\"sk-container-id-1\" class=\"sk-top-container\"><div class=\"sk-text-repr-fallback\"><pre>SimpleImputer(strategy=&#x27;median&#x27;)</pre><b>In a Jupyter environment, please rerun this cell to show the HTML representation or trust the notebook. <br />On GitHub, the HTML representation is unable to render, please try loading this page with nbviewer.org.</b></div><div class=\"sk-container\" hidden><div class=\"sk-item\"><div class=\"sk-estimator sk-toggleable\"><input class=\"sk-toggleable__control sk-hidden--visually\" id=\"sk-estimator-id-1\" type=\"checkbox\" checked><label for=\"sk-estimator-id-1\" class=\"sk-toggleable__label sk-toggleable__label-arrow\">SimpleImputer</label><div class=\"sk-toggleable__content\"><pre>SimpleImputer(strategy=&#x27;median&#x27;)</pre></div></div></div></div></div>"
      ],
      "text/plain": [
       "SimpleImputer(strategy='median')"
      ]
     },
     "execution_count": 48,
     "metadata": {},
     "output_type": "execute_result"
    }
   ],
   "source": [
    "from sklearn.impute import SimpleImputer\n",
    "imputer=SimpleImputer(strategy=\"median\")\n",
    "imputer.fit(housing)"
   ]
  },
  {
   "cell_type": "code",
   "execution_count": 49,
   "id": "359e90ea",
   "metadata": {},
   "outputs": [
    {
     "data": {
      "text/plain": [
       "array([2.7957e-01, 0.0000e+00, 9.9000e+00, 0.0000e+00, 5.3800e-01,\n",
       "       6.1850e+00, 7.8700e+01, 3.2157e+00, 5.0000e+00, 3.3500e+02,\n",
       "       1.9100e+01, 3.9100e+02, 1.1970e+01])"
      ]
     },
     "execution_count": 49,
     "metadata": {},
     "output_type": "execute_result"
    }
   ],
   "source": [
    "imputer.statistics_\n",
    "#for all columns of missing data value"
   ]
  },
  {
   "cell_type": "code",
   "execution_count": 50,
   "id": "acf40937",
   "metadata": {},
   "outputs": [],
   "source": [
    "X=imputer.transform(housing)"
   ]
  },
  {
   "cell_type": "code",
   "execution_count": 51,
   "id": "82e95bd2",
   "metadata": {},
   "outputs": [],
   "source": [
    "housing_tr=pd.DataFrame(X,columns=housing.columns)"
   ]
  },
  {
   "cell_type": "code",
   "execution_count": 52,
   "id": "b543f3cb",
   "metadata": {},
   "outputs": [
    {
     "data": {
      "text/html": [
       "<div>\n",
       "<style scoped>\n",
       "    .dataframe tbody tr th:only-of-type {\n",
       "        vertical-align: middle;\n",
       "    }\n",
       "\n",
       "    .dataframe tbody tr th {\n",
       "        vertical-align: top;\n",
       "    }\n",
       "\n",
       "    .dataframe thead th {\n",
       "        text-align: right;\n",
       "    }\n",
       "</style>\n",
       "<table border=\"1\" class=\"dataframe\">\n",
       "  <thead>\n",
       "    <tr style=\"text-align: right;\">\n",
       "      <th></th>\n",
       "      <th>CRIM</th>\n",
       "      <th>ZN</th>\n",
       "      <th>INDUS</th>\n",
       "      <th>CHAS</th>\n",
       "      <th>NOX</th>\n",
       "      <th>RM</th>\n",
       "      <th>AGE</th>\n",
       "      <th>DIS</th>\n",
       "      <th>RAD</th>\n",
       "      <th>TAX</th>\n",
       "      <th>PTRATIO</th>\n",
       "      <th>B</th>\n",
       "      <th>LSTAT</th>\n",
       "    </tr>\n",
       "  </thead>\n",
       "  <tbody>\n",
       "    <tr>\n",
       "      <th>count</th>\n",
       "      <td>403.000000</td>\n",
       "      <td>403.000000</td>\n",
       "      <td>403.000000</td>\n",
       "      <td>403.000000</td>\n",
       "      <td>403.000000</td>\n",
       "      <td>403.000000</td>\n",
       "      <td>403.000000</td>\n",
       "      <td>403.000000</td>\n",
       "      <td>403.000000</td>\n",
       "      <td>403.000000</td>\n",
       "      <td>403.000000</td>\n",
       "      <td>403.000000</td>\n",
       "      <td>403.000000</td>\n",
       "    </tr>\n",
       "    <tr>\n",
       "      <th>mean</th>\n",
       "      <td>3.596690</td>\n",
       "      <td>10.296526</td>\n",
       "      <td>11.346377</td>\n",
       "      <td>0.069479</td>\n",
       "      <td>0.557960</td>\n",
       "      <td>6.267739</td>\n",
       "      <td>69.162035</td>\n",
       "      <td>3.765698</td>\n",
       "      <td>9.707196</td>\n",
       "      <td>411.052109</td>\n",
       "      <td>18.501985</td>\n",
       "      <td>353.137742</td>\n",
       "      <td>12.848834</td>\n",
       "    </tr>\n",
       "    <tr>\n",
       "      <th>std</th>\n",
       "      <td>8.150279</td>\n",
       "      <td>21.888189</td>\n",
       "      <td>6.789662</td>\n",
       "      <td>0.254583</td>\n",
       "      <td>0.118018</td>\n",
       "      <td>0.704298</td>\n",
       "      <td>28.012897</td>\n",
       "      <td>2.093371</td>\n",
       "      <td>8.767513</td>\n",
       "      <td>168.569235</td>\n",
       "      <td>2.107767</td>\n",
       "      <td>95.711037</td>\n",
       "      <td>7.180762</td>\n",
       "    </tr>\n",
       "    <tr>\n",
       "      <th>min</th>\n",
       "      <td>0.006320</td>\n",
       "      <td>0.000000</td>\n",
       "      <td>0.460000</td>\n",
       "      <td>0.000000</td>\n",
       "      <td>0.389000</td>\n",
       "      <td>3.561000</td>\n",
       "      <td>2.900000</td>\n",
       "      <td>1.129600</td>\n",
       "      <td>1.000000</td>\n",
       "      <td>187.000000</td>\n",
       "      <td>13.000000</td>\n",
       "      <td>2.520000</td>\n",
       "      <td>1.730000</td>\n",
       "    </tr>\n",
       "    <tr>\n",
       "      <th>25%</th>\n",
       "      <td>0.087665</td>\n",
       "      <td>0.000000</td>\n",
       "      <td>5.255000</td>\n",
       "      <td>0.000000</td>\n",
       "      <td>0.449000</td>\n",
       "      <td>5.878500</td>\n",
       "      <td>46.050000</td>\n",
       "      <td>2.094100</td>\n",
       "      <td>4.000000</td>\n",
       "      <td>284.000000</td>\n",
       "      <td>17.400000</td>\n",
       "      <td>374.695000</td>\n",
       "      <td>7.130000</td>\n",
       "    </tr>\n",
       "    <tr>\n",
       "      <th>50%</th>\n",
       "      <td>0.279570</td>\n",
       "      <td>0.000000</td>\n",
       "      <td>9.900000</td>\n",
       "      <td>0.000000</td>\n",
       "      <td>0.538000</td>\n",
       "      <td>6.185000</td>\n",
       "      <td>78.700000</td>\n",
       "      <td>3.215700</td>\n",
       "      <td>5.000000</td>\n",
       "      <td>335.000000</td>\n",
       "      <td>19.100000</td>\n",
       "      <td>391.000000</td>\n",
       "      <td>11.970000</td>\n",
       "    </tr>\n",
       "    <tr>\n",
       "      <th>75%</th>\n",
       "      <td>3.805910</td>\n",
       "      <td>12.500000</td>\n",
       "      <td>18.100000</td>\n",
       "      <td>0.000000</td>\n",
       "      <td>0.631000</td>\n",
       "      <td>6.611000</td>\n",
       "      <td>94.100000</td>\n",
       "      <td>5.117350</td>\n",
       "      <td>24.000000</td>\n",
       "      <td>666.000000</td>\n",
       "      <td>20.200000</td>\n",
       "      <td>395.720000</td>\n",
       "      <td>17.095000</td>\n",
       "    </tr>\n",
       "    <tr>\n",
       "      <th>max</th>\n",
       "      <td>73.534100</td>\n",
       "      <td>100.000000</td>\n",
       "      <td>27.740000</td>\n",
       "      <td>1.000000</td>\n",
       "      <td>0.871000</td>\n",
       "      <td>8.780000</td>\n",
       "      <td>100.000000</td>\n",
       "      <td>12.126500</td>\n",
       "      <td>24.000000</td>\n",
       "      <td>711.000000</td>\n",
       "      <td>22.000000</td>\n",
       "      <td>396.900000</td>\n",
       "      <td>36.980000</td>\n",
       "    </tr>\n",
       "  </tbody>\n",
       "</table>\n",
       "</div>"
      ],
      "text/plain": [
       "             CRIM          ZN       INDUS        CHAS         NOX          RM  \\\n",
       "count  403.000000  403.000000  403.000000  403.000000  403.000000  403.000000   \n",
       "mean     3.596690   10.296526   11.346377    0.069479    0.557960    6.267739   \n",
       "std      8.150279   21.888189    6.789662    0.254583    0.118018    0.704298   \n",
       "min      0.006320    0.000000    0.460000    0.000000    0.389000    3.561000   \n",
       "25%      0.087665    0.000000    5.255000    0.000000    0.449000    5.878500   \n",
       "50%      0.279570    0.000000    9.900000    0.000000    0.538000    6.185000   \n",
       "75%      3.805910   12.500000   18.100000    0.000000    0.631000    6.611000   \n",
       "max     73.534100  100.000000   27.740000    1.000000    0.871000    8.780000   \n",
       "\n",
       "              AGE         DIS         RAD         TAX     PTRATIO           B  \\\n",
       "count  403.000000  403.000000  403.000000  403.000000  403.000000  403.000000   \n",
       "mean    69.162035    3.765698    9.707196  411.052109   18.501985  353.137742   \n",
       "std     28.012897    2.093371    8.767513  168.569235    2.107767   95.711037   \n",
       "min      2.900000    1.129600    1.000000  187.000000   13.000000    2.520000   \n",
       "25%     46.050000    2.094100    4.000000  284.000000   17.400000  374.695000   \n",
       "50%     78.700000    3.215700    5.000000  335.000000   19.100000  391.000000   \n",
       "75%     94.100000    5.117350   24.000000  666.000000   20.200000  395.720000   \n",
       "max    100.000000   12.126500   24.000000  711.000000   22.000000  396.900000   \n",
       "\n",
       "            LSTAT  \n",
       "count  403.000000  \n",
       "mean    12.848834  \n",
       "std      7.180762  \n",
       "min      1.730000  \n",
       "25%      7.130000  \n",
       "50%     11.970000  \n",
       "75%     17.095000  \n",
       "max     36.980000  "
      ]
     },
     "execution_count": 52,
     "metadata": {},
     "output_type": "execute_result"
    }
   ],
   "source": [
    "housing_tr.describe()"
   ]
  },
  {
   "attachments": {},
   "cell_type": "markdown",
   "id": "20e9aa60",
   "metadata": {},
   "source": [
    "## scikit-learn"
   ]
  },
  {
   "attachments": {},
   "cell_type": "markdown",
   "id": "f31ea147",
   "metadata": {},
   "source": [
    "primarly 3 types of objects\n",
    "1. estimators- it estimates some parameters based on dataset. eg imputer\n",
    "it has a fit methodand transform method\n",
    "fit method-fits the dataset and calculates internsal parameters\n",
    "2. transformer- transform method takes input and returns output based on learning on fit(). it also has a convenience function caled fit_transform() which fits and then transforms\n",
    "3. predictors- linear regression model is an example of predictor. fit() and predict() are 2 common functions .it also gives score functions which will evaluate the predictions"
   ]
  },
  {
   "attachments": {},
   "cell_type": "markdown",
   "id": "28a7e7f1",
   "metadata": {},
   "source": [
    "## Feature scaling"
   ]
  },
  {
   "attachments": {},
   "cell_type": "markdown",
   "id": "9233620b",
   "metadata": {},
   "source": [
    "primarly 2 types of feature scaling methods:\n",
    "    1. min max scaling (Normalization)\n",
    "    (value-min)/(max-min)\n",
    "    sklearn provides a class called MinMaxScaler for this \n",
    "    2.Standardization\n",
    "    (value-mean)/standard deviation\n",
    "    sklearn provides a class called standard scaler for this \n",
    "    \n",
    "    "
   ]
  },
  {
   "attachments": {},
   "cell_type": "markdown",
   "id": "085c2ec2",
   "metadata": {},
   "source": [
    "## creating pipeline"
   ]
  },
  {
   "cell_type": "code",
   "execution_count": 53,
   "id": "85550297",
   "metadata": {},
   "outputs": [],
   "source": [
    "from sklearn.impute import SimpleImputer\n",
    "from sklearn.pipeline import Pipeline\n",
    "from sklearn.preprocessing import StandardScaler\n",
    "my_pipeline=Pipeline([\n",
    "    ('imputer',SimpleImputer(strategy=\"median\")),\n",
    "    #.... many can be added\n",
    "    ('std_scaler',StandardScaler()),\n",
    "])"
   ]
  },
  {
   "cell_type": "code",
   "execution_count": 54,
   "id": "c38164fc",
   "metadata": {},
   "outputs": [],
   "source": [
    "housing_num_tr=my_pipeline.fit_transform(housing)"
   ]
  },
  {
   "cell_type": "code",
   "execution_count": 55,
   "id": "f07cb3ff",
   "metadata": {},
   "outputs": [
    {
     "data": {
      "text/plain": [
       "(403, 13)"
      ]
     },
     "execution_count": 55,
     "metadata": {},
     "output_type": "execute_result"
    }
   ],
   "source": [
    "housing_num_tr.shape"
   ]
  },
  {
   "attachments": {},
   "cell_type": "markdown",
   "id": "5cda2371",
   "metadata": {},
   "source": [
    "## selecting desired model for our project"
   ]
  },
  {
   "cell_type": "code",
   "execution_count": 56,
   "id": "d19e6356",
   "metadata": {},
   "outputs": [
    {
     "data": {
      "text/html": [
       "<style>#sk-container-id-2 {color: black;background-color: white;}#sk-container-id-2 pre{padding: 0;}#sk-container-id-2 div.sk-toggleable {background-color: white;}#sk-container-id-2 label.sk-toggleable__label {cursor: pointer;display: block;width: 100%;margin-bottom: 0;padding: 0.3em;box-sizing: border-box;text-align: center;}#sk-container-id-2 label.sk-toggleable__label-arrow:before {content: \"▸\";float: left;margin-right: 0.25em;color: #696969;}#sk-container-id-2 label.sk-toggleable__label-arrow:hover:before {color: black;}#sk-container-id-2 div.sk-estimator:hover label.sk-toggleable__label-arrow:before {color: black;}#sk-container-id-2 div.sk-toggleable__content {max-height: 0;max-width: 0;overflow: hidden;text-align: left;background-color: #f0f8ff;}#sk-container-id-2 div.sk-toggleable__content pre {margin: 0.2em;color: black;border-radius: 0.25em;background-color: #f0f8ff;}#sk-container-id-2 input.sk-toggleable__control:checked~div.sk-toggleable__content {max-height: 200px;max-width: 100%;overflow: auto;}#sk-container-id-2 input.sk-toggleable__control:checked~label.sk-toggleable__label-arrow:before {content: \"▾\";}#sk-container-id-2 div.sk-estimator input.sk-toggleable__control:checked~label.sk-toggleable__label {background-color: #d4ebff;}#sk-container-id-2 div.sk-label input.sk-toggleable__control:checked~label.sk-toggleable__label {background-color: #d4ebff;}#sk-container-id-2 input.sk-hidden--visually {border: 0;clip: rect(1px 1px 1px 1px);clip: rect(1px, 1px, 1px, 1px);height: 1px;margin: -1px;overflow: hidden;padding: 0;position: absolute;width: 1px;}#sk-container-id-2 div.sk-estimator {font-family: monospace;background-color: #f0f8ff;border: 1px dotted black;border-radius: 0.25em;box-sizing: border-box;margin-bottom: 0.5em;}#sk-container-id-2 div.sk-estimator:hover {background-color: #d4ebff;}#sk-container-id-2 div.sk-parallel-item::after {content: \"\";width: 100%;border-bottom: 1px solid gray;flex-grow: 1;}#sk-container-id-2 div.sk-label:hover label.sk-toggleable__label {background-color: #d4ebff;}#sk-container-id-2 div.sk-serial::before {content: \"\";position: absolute;border-left: 1px solid gray;box-sizing: border-box;top: 0;bottom: 0;left: 50%;z-index: 0;}#sk-container-id-2 div.sk-serial {display: flex;flex-direction: column;align-items: center;background-color: white;padding-right: 0.2em;padding-left: 0.2em;position: relative;}#sk-container-id-2 div.sk-item {position: relative;z-index: 1;}#sk-container-id-2 div.sk-parallel {display: flex;align-items: stretch;justify-content: center;background-color: white;position: relative;}#sk-container-id-2 div.sk-item::before, #sk-container-id-2 div.sk-parallel-item::before {content: \"\";position: absolute;border-left: 1px solid gray;box-sizing: border-box;top: 0;bottom: 0;left: 50%;z-index: -1;}#sk-container-id-2 div.sk-parallel-item {display: flex;flex-direction: column;z-index: 1;position: relative;background-color: white;}#sk-container-id-2 div.sk-parallel-item:first-child::after {align-self: flex-end;width: 50%;}#sk-container-id-2 div.sk-parallel-item:last-child::after {align-self: flex-start;width: 50%;}#sk-container-id-2 div.sk-parallel-item:only-child::after {width: 0;}#sk-container-id-2 div.sk-dashed-wrapped {border: 1px dashed gray;margin: 0 0.4em 0.5em 0.4em;box-sizing: border-box;padding-bottom: 0.4em;background-color: white;}#sk-container-id-2 div.sk-label label {font-family: monospace;font-weight: bold;display: inline-block;line-height: 1.2em;}#sk-container-id-2 div.sk-label-container {text-align: center;}#sk-container-id-2 div.sk-container {/* jupyter's `normalize.less` sets `[hidden] { display: none; }` but bootstrap.min.css set `[hidden] { display: none !important; }` so we also need the `!important` here to be able to override the default hidden behavior on the sphinx rendered scikit-learn.org. See: https://github.com/scikit-learn/scikit-learn/issues/21755 */display: inline-block !important;position: relative;}#sk-container-id-2 div.sk-text-repr-fallback {display: none;}</style><div id=\"sk-container-id-2\" class=\"sk-top-container\"><div class=\"sk-text-repr-fallback\"><pre>LinearRegression()</pre><b>In a Jupyter environment, please rerun this cell to show the HTML representation or trust the notebook. <br />On GitHub, the HTML representation is unable to render, please try loading this page with nbviewer.org.</b></div><div class=\"sk-container\" hidden><div class=\"sk-item\"><div class=\"sk-estimator sk-toggleable\"><input class=\"sk-toggleable__control sk-hidden--visually\" id=\"sk-estimator-id-2\" type=\"checkbox\" checked><label for=\"sk-estimator-id-2\" class=\"sk-toggleable__label sk-toggleable__label-arrow\">LinearRegression</label><div class=\"sk-toggleable__content\"><pre>LinearRegression()</pre></div></div></div></div></div>"
      ],
      "text/plain": [
       "LinearRegression()"
      ]
     },
     "execution_count": 56,
     "metadata": {},
     "output_type": "execute_result"
    }
   ],
   "source": [
    "from sklearn.linear_model import LinearRegression\n",
    "from sklearn.tree import DecisionTreeRegressor\n",
    "from sklearn.ensemble import RandomForestRegressor\n",
    "model=LinearRegression()\n",
    "#model=DecisionTreeRegressor()\n",
    "#model=RandomForestRegressor() \n",
    "model.fit(housing_num_tr,housing_labels)"
   ]
  },
  {
   "cell_type": "code",
   "execution_count": 57,
   "id": "8b153ac6",
   "metadata": {},
   "outputs": [
    {
     "name": "stdout",
     "output_type": "stream",
     "text": [
      "[-0.66505955  0.9459465   0.22782573  0.80893565 -2.20335691  2.42800307\n",
      "  0.06136068 -3.02958056  3.09949347 -2.51983231 -2.22798087  0.85658632\n",
      " -4.05291619]\n"
     ]
    }
   ],
   "source": [
    "##   the  .coef_  will work with linear regression only, comment it while working with randomforest model\n",
    "print(model.coef_)"
   ]
  },
  {
   "cell_type": "code",
   "execution_count": 58,
   "id": "a1547f9e",
   "metadata": {},
   "outputs": [],
   "source": [
    "some_data=housing.iloc[:5]"
   ]
  },
  {
   "cell_type": "code",
   "execution_count": 59,
   "id": "720296db",
   "metadata": {},
   "outputs": [],
   "source": [
    "some_labels=housing_labels.iloc[:5]"
   ]
  },
  {
   "cell_type": "code",
   "execution_count": 60,
   "id": "5727ebd8",
   "metadata": {},
   "outputs": [],
   "source": [
    "prepared_data=my_pipeline.transform(some_data)"
   ]
  },
  {
   "cell_type": "code",
   "execution_count": 61,
   "id": "b7428149",
   "metadata": {},
   "outputs": [
    {
     "data": {
      "text/plain": [
       "array([21.46299288, 35.02673623, 33.23131705, 30.60569896, 12.10610114])"
      ]
     },
     "execution_count": 61,
     "metadata": {},
     "output_type": "execute_result"
    }
   ],
   "source": [
    "model.predict(prepared_data)"
   ]
  },
  {
   "cell_type": "code",
   "execution_count": 62,
   "id": "7887e4ba",
   "metadata": {},
   "outputs": [
    {
     "data": {
      "text/plain": [
       "[21.8, 43.8, 33.1, 30.5, 15.6]"
      ]
     },
     "execution_count": 62,
     "metadata": {},
     "output_type": "execute_result"
    }
   ],
   "source": [
    "list(some_labels)"
   ]
  },
  {
   "attachments": {},
   "cell_type": "markdown",
   "id": "6e7ff890",
   "metadata": {},
   "source": [
    "## evaluating model"
   ]
  },
  {
   "cell_type": "code",
   "execution_count": 63,
   "id": "5d2d1e2e",
   "metadata": {},
   "outputs": [],
   "source": [
    "from sklearn.metrics import mean_squared_error\n",
    "housing_predictions=model.predict(housing_num_tr)\n",
    "mse=mean_squared_error(housing_labels,housing_predictions)\n",
    "rmse=np.sqrt(mse)\n"
   ]
  },
  {
   "cell_type": "code",
   "execution_count": 64,
   "id": "2c969782",
   "metadata": {},
   "outputs": [
    {
     "data": {
      "text/plain": [
       "4.840117339274972"
      ]
     },
     "execution_count": 64,
     "metadata": {},
     "output_type": "execute_result"
    }
   ],
   "source": [
    "rmse # tooo high erroR with just linear regression(under fitting)\n",
    "#but with decision tree it is learning noise and it got over fit which is very bad"
   ]
  },
  {
   "attachments": {},
   "cell_type": "markdown",
   "id": "a7c1c7fe",
   "metadata": {},
   "source": [
    "## using better evaluation techique -- cross validation"
   ]
  },
  {
   "cell_type": "code",
   "execution_count": 65,
   "id": "706f6f00",
   "metadata": {},
   "outputs": [],
   "source": [
    "# 1 2 3 4 5 6 7 8 9 10 \n",
    "from sklearn.model_selection import cross_val_score\n",
    "scores=cross_val_score(model,housing_num_tr,housing_labels,scoring=\"neg_mean_squared_error\")#maximise utility\n",
    "rmse_scores=np.sqrt(-scores)"
   ]
  },
  {
   "cell_type": "code",
   "execution_count": 66,
   "id": "9fa06e19",
   "metadata": {},
   "outputs": [
    {
     "data": {
      "text/plain": [
       "array([4.49803321, 5.40457086, 4.53894807, 5.32026702, 5.41757635])"
      ]
     },
     "execution_count": 66,
     "metadata": {},
     "output_type": "execute_result"
    }
   ],
   "source": [
    "rmse_scores"
   ]
  },
  {
   "cell_type": "code",
   "execution_count": 67,
   "id": "8b876d60",
   "metadata": {},
   "outputs": [],
   "source": [
    "def print_scores(scores):\n",
    "    print(\"Scores:\",scores)\n",
    "    print(\"mean\",scores.mean())\n",
    "    print(\"standard deviation\",scores.std())"
   ]
  },
  {
   "cell_type": "code",
   "execution_count": 68,
   "id": "44115252",
   "metadata": {},
   "outputs": [
    {
     "name": "stdout",
     "output_type": "stream",
     "text": [
      "Scores: [4.49803321 5.40457086 4.53894807 5.32026702 5.41757635]\n",
      "mean 5.03587910164412\n",
      "standard deviation 0.42396262733622114\n"
     ]
    }
   ],
   "source": [
    "print_scores(rmse_scores)\n"
   ]
  },
  {
   "attachments": {},
   "cell_type": "markdown",
   "id": "90436244",
   "metadata": {},
   "source": [
    "## saving the model"
   ]
  },
  {
   "cell_type": "code",
   "execution_count": 69,
   "id": "2a5890fd",
   "metadata": {},
   "outputs": [
    {
     "data": {
      "text/plain": [
       "['Dragon.joblib']"
      ]
     },
     "execution_count": 69,
     "metadata": {},
     "output_type": "execute_result"
    }
   ],
   "source": [
    "from joblib import dump,load\n",
    "dump(model,'Dragon.joblib')"
   ]
  },
  {
   "attachments": {},
   "cell_type": "markdown",
   "id": "31480dbc",
   "metadata": {},
   "source": [
    "## testing model "
   ]
  },
  {
   "cell_type": "code",
   "execution_count": 70,
   "id": "c45c6c99",
   "metadata": {},
   "outputs": [
    {
     "name": "stdout",
     "output_type": "stream",
     "text": [
      "[36.50383497 20.17462046 26.34728397 30.9612184  26.58259189 27.83476915\n",
      "  2.47726529 23.27007696 28.93040294 25.8402165  30.71997105 29.59626407\n",
      " 30.77146752 30.38637795 29.88680017 21.84557991 16.18594955 39.68661737\n",
      " 19.47265243 21.19620861 18.31693753 25.81376774 14.65059588 15.53853891\n",
      " 25.30546317 22.68534936 25.45642616 21.06399505 23.72494398 31.12453779\n",
      " 22.55709166 15.39740907 24.38532735 16.36899238 24.88395406 17.58542168\n",
      " 23.076378   21.21591932  0.92284272 29.6738293  29.3382766  16.44613217\n",
      " 20.4415751  27.81273155 13.5929726   8.0170749  43.34808179 25.43322018\n",
      " 31.19857256 22.78451363 22.34246615 32.21470307 20.04016583  5.76884883\n",
      " 22.31191021 36.93836842 29.17417435 34.76094683 32.94586605 32.00368796\n",
      " 10.97236146 28.31502154 27.12780446 22.76711115 19.0322614  22.02940973\n",
      " 22.42935277 33.76074635 13.3890757  33.91600742 13.57697887 32.76551813\n",
      " 17.30734678 31.58191742 22.05529921 19.68072556 18.37835739 19.70645774\n",
      " 38.1538617  19.80372217 35.95508059 31.35178184 16.78785062 11.97735133\n",
      " 17.50084691 19.00955821 24.3949256  34.99086554 31.79168445 36.11631558\n",
      " 24.66939859 25.05465803 16.85622819 27.35788172 15.04079179 18.5974231\n",
      " 28.56400445 16.69465938 27.33972535 22.40360547 23.09110953] [33.3, 20.1, 24.8, 28.7, 23.9, 24.5, 8.1, 20.4, 23.3, 21.5, 29.1, 25.0, 23.0, 32.9, 34.9, 19.7, 10.4, 50.0, 19.9, 20.1, 18.7, 24.0, 18.9, 15.2, 26.5, 20.0, 21.6, 21.1, 19.4, 28.4, 20.6, 17.4, 21.7, 13.4, 25.0, 19.4, 17.4, 21.2, 13.8, 22.5, 26.4, 17.3, 20.4, 22.3, 14.5, 7.2, 50.0, 25.0, 29.4, 25.0, 20.6, 29.0, 17.8, 7.4, 19.8, 36.0, 22.8, 31.0, 30.3, 27.9, 15.2, 25.0, 22.3, 19.3, 12.5, 16.5, 23.2, 41.3, 11.3, 27.0, 8.3, 31.6, 19.1, 32.5, 17.8, 23.0, 10.9, 18.5, 41.7, 27.5, 35.2, 35.4, 10.2, 5.6, 13.9, 20.8, 23.4, 34.6, 29.9, 35.1, 20.5, 24.7, 19.1, 22.6, 11.7, 20.8, 31.2, 23.1, 23.7, 11.9, 21.7]\n"
     ]
    }
   ],
   "source": [
    "# finding the diference b/w predicted and test value\n",
    "X_test=strat_test_set.drop(\"MEDV\",axis=1)\n",
    "Y_test=strat_test_set[\"MEDV\"].copy()\n",
    "X_test_prepared=my_pipeline.transform(X_test)\n",
    "final_predictions=model.predict(X_test_prepared)\n",
    "final_mse=mean_squared_error(Y_test,final_predictions)\n",
    "final_rmse=np.sqrt(final_mse)\n",
    "print(final_predictions,list(Y_test))"
   ]
  },
  {
   "cell_type": "code",
   "execution_count": 71,
   "id": "628244f2",
   "metadata": {},
   "outputs": [
    {
     "data": {
      "text/plain": [
       "<matplotlib.collections.PathCollection at 0x25eacab92d0>"
      ]
     },
     "execution_count": 71,
     "metadata": {},
     "output_type": "execute_result"
    },
    {
     "data": {
      "image/png": "[encoded data removed]",
      "text/plain": [
       "<Figure size 640x480 with 1 Axes>"
      ]
     },
     "metadata": {},
     "output_type": "display_data"
    }
   ],
   "source": [
    "plt.scatter(Y_test,final_predictions)"
   ]
  },
  {
   "cell_type": "code",
   "execution_count": 72,
   "id": "4a73e97b",
   "metadata": {},
   "outputs": [],
   "source": [
    "## Residuals error\n",
    "residuals=Y_test-final_predictions"
   ]
  },
  {
   "cell_type": "code",
   "execution_count": 73,
   "id": "6343283c",
   "metadata": {},
   "outputs": [
    {
     "data": {
      "text/plain": [
       "194    -3.203835\n",
       "284    -0.074620\n",
       "80     -1.547284\n",
       "87     -2.261218\n",
       "291    -2.682592\n",
       "         ...    \n",
       "342     2.635996\n",
       "493     6.405341\n",
       "479    -3.639725\n",
       "503   -10.503605\n",
       "355    -1.391110\n",
       "Name: MEDV, Length: 101, dtype: float64"
      ]
     },
     "execution_count": 73,
     "metadata": {},
     "output_type": "execute_result"
    }
   ],
   "source": [
    "residuals\n"
   ]
  },
  {
   "cell_type": "code",
   "execution_count": 74,
   "id": "230190ae",
   "metadata": {},
   "outputs": [
    {
     "data": {
      "text/plain": [
       "<seaborn.axisgrid.FacetGrid at 0x25eaac95840>"
      ]
     },
     "execution_count": 74,
     "metadata": {},
     "output_type": "execute_result"
    },
    {
     "data": {
      "image/png": "[encoded data removed]",
      "text/plain": [
       "<Figure size 500x500 with 1 Axes>"
      ]
     },
     "metadata": {},
     "output_type": "display_data"
    }
   ],
   "source": [
    "import seaborn as sns\n",
    "sns.displot(residuals,kind=\"kde\")"
   ]
  },
  {
   "cell_type": "code",
   "execution_count": 75,
   "id": "dff2d34b",
   "metadata": {},
   "outputs": [
    {
     "data": {
      "text/plain": [
       "<matplotlib.collections.PathCollection at 0x25e9d98bd00>"
      ]
     },
     "execution_count": 75,
     "metadata": {},
     "output_type": "execute_result"
    },
    {
     "data": {
      "image/png": "[encoded data removed]",
      "text/plain": [
       "<Figure size 640x480 with 1 Axes>"
      ]
     },
     "metadata": {},
     "output_type": "display_data"
    }
   ],
   "source": [
    "##evenly distributed\n",
    "## Scatter plot with respect to prediction and residuals\n",
    "## uniform distribution\n",
    "plt.scatter(final_predictions,residuals)"
   ]
  },
  {
   "cell_type": "code",
   "execution_count": 76,
   "id": "c14fcd37",
   "metadata": {},
   "outputs": [
    {
     "name": "stdout",
     "output_type": "stream",
     "text": [
      "3.307387333983265\n",
      "17.156374540045014\n",
      "4.14202541518579\n"
     ]
    }
   ],
   "source": [
    "from sklearn.metrics import mean_squared_error\n",
    "from sklearn.metrics import mean_absolute_error\n",
    "\n",
    "print(mean_absolute_error(Y_test,final_predictions))\n",
    "print(mean_squared_error(Y_test,final_predictions))\n",
    "print(np.sqrt(mean_squared_error(Y_test,final_predictions)))"
   ]
  },
  {
   "attachments": {},
   "cell_type": "markdown",
   "id": "27cd3af7",
   "metadata": {},
   "source": [
    "R^2 = 1 - SSR/SST\n",
    "\n",
    "R^2 = coefficient of determination SSR = sum of squares of residuals SST = total sum of squares"
   ]
  },
  {
   "cell_type": "code",
   "execution_count": 77,
   "id": "ca89727a",
   "metadata": {},
   "outputs": [
    {
     "name": "stdout",
     "output_type": "stream",
     "text": [
      "0.7527258640033198\n"
     ]
    }
   ],
   "source": [
    "from sklearn.metrics import r2_score\n",
    "score=r2_score(Y_test,final_predictions)\n",
    "print(score)"
   ]
  },
  {
   "cell_type": "code",
   "execution_count": 78,
   "id": "3bfadb03",
   "metadata": {},
   "outputs": [
    {
     "data": {
      "text/plain": [
       "array([[-0.09561353, -0.47099944,  0.99592846, -0.27325202, -0.22023963,\n",
       "        -0.71896877, -1.03159306,  0.15908105,  1.63222692,  1.51430238,\n",
       "         0.80660024,  0.4161663 , -0.33866222]])"
      ]
     },
     "execution_count": 78,
     "metadata": {},
     "output_type": "execute_result"
    }
   ],
   "source": [
    "prepared_data[0].reshape(1,-1)"
   ]
  },
  {
   "cell_type": "code",
   "execution_count": 79,
   "id": "0abb92f4",
   "metadata": {},
   "outputs": [
    {
     "data": {
      "text/plain": [
       "array([21.46299288])"
      ]
     },
     "execution_count": 79,
     "metadata": {},
     "output_type": "execute_result"
    }
   ],
   "source": [
    "model.predict(prepared_data[0].reshape(1,-1))"
   ]
  },
  {
   "cell_type": "code",
   "execution_count": 80,
   "id": "65265e57",
   "metadata": {},
   "outputs": [
    {
     "data": {
      "text/plain": [
       "4.14202541518579"
      ]
     },
     "execution_count": 80,
     "metadata": {},
     "output_type": "execute_result"
    }
   ],
   "source": [
    "final_rmse"
   ]
  },
  {
   "cell_type": "code",
   "execution_count": 81,
   "id": "7fe84559",
   "metadata": {},
   "outputs": [
    {
     "data": {
      "text/plain": [
       "array([[-0.09561353, -0.47099944,  0.99592846, -0.27325202, -0.22023963,\n",
       "        -0.71896877, -1.03159306,  0.15908105,  1.63222692,  1.51430238,\n",
       "         0.80660024,  0.4161663 , -0.33866222],\n",
       "       [-0.43178749, -0.47099944, -1.2470265 , -0.27325202, -0.95832943,\n",
       "         2.20672295, -1.1531166 , -0.12937697, -0.8801557 , -0.80216286,\n",
       "        -0.23845569,  0.42254757, -1.29378574],\n",
       "       [-0.42956026,  1.08428054, -0.77513591, -0.27325202, -1.06013492,\n",
       "         1.0154063 , -1.83936713,  0.82553338, -0.30915965, -0.48736118,\n",
       "        -1.14100399,  0.39011815, -1.11391576],\n",
       "       [-0.43335502,  1.58745936, -1.16592031, -0.27325202, -1.02619976,\n",
       "         0.6699529 , -1.37114411,  1.29813389, -0.53755807, -0.07752502,\n",
       "        -1.56852687,  0.38258616, -1.13761956],\n",
       "       [ 0.06151113, -0.47099944,  1.21417785, -0.27325202,  2.65576545,\n",
       "        -1.13692473,  1.1022172 , -1.12585091, -0.53755807, -0.04782675,\n",
       "        -1.80603958,  0.45780149,  1.89228322]])"
      ]
     },
     "execution_count": 81,
     "metadata": {},
     "output_type": "execute_result"
    }
   ],
   "source": [
    "prepared_data"
   ]
  },
  {
   "cell_type": "code",
   "execution_count": 82,
   "id": "e2a348e8",
   "metadata": {},
   "outputs": [
    {
     "data": {
      "text/plain": [
       "array([-0.09561353, -0.47099944,  0.99592846, -0.27325202, -0.22023963,\n",
       "       -0.71896877, -1.03159306,  0.15908105,  1.63222692,  1.51430238,\n",
       "        0.80660024,  0.4161663 , -0.33866222])"
      ]
     },
     "execution_count": 82,
     "metadata": {},
     "output_type": "execute_result"
    }
   ],
   "source": [
    "prepared_data[0]"
   ]
  },
  {
   "cell_type": "code",
   "execution_count": 83,
   "id": "6fea82fc",
   "metadata": {},
   "outputs": [],
   "source": [
    "import pickle"
   ]
  },
  {
   "cell_type": "code",
   "execution_count": 84,
   "id": "3418df25",
   "metadata": {},
   "outputs": [],
   "source": [
    "pickle.dump(model,open('regmodel.pkl','wb'))"
   ]
  },
  {
   "cell_type": "code",
   "execution_count": 85,
   "id": "911ed5e6",
   "metadata": {},
   "outputs": [],
   "source": [
    "pickled_model=pickle.load(open('regmodel.pkl','rb'))"
   ]
  },
  {
   "cell_type": "code",
   "execution_count": 86,
   "id": "137e07a8",
   "metadata": {},
   "outputs": [],
   "source": [
    "from sklearn.preprocessing import StandardScaler\n",
    "scaler=StandardScaler()"
   ]
  },
  {
   "cell_type": "code",
   "execution_count": 87,
   "id": "0069b7d9",
   "metadata": {},
   "outputs": [
    {
     "data": {
      "text/plain": [
       "array([21.46299288])"
      ]
     },
     "execution_count": 87,
     "metadata": {},
     "output_type": "execute_result"
    }
   ],
   "source": [
    "pickled_model.predict((prepared_data[0].reshape(1,-1)))"
   ]
  }
 ],
 "metadata": {
  "kernelspec": {
   "display_name": "Python 3 (ipykernel)",
   "language": "python",
   "name": "python3"
  },
  "language_info": {
   "codemirror_mode": {
    "name": "ipython",
    "version": 3
   },
   "file_extension": ".py",
   "mimetype": "text/x-python",
   "name": "python",
   "nbconvert_exporter": "python",
   "pygments_lexer": "ipython3",
   "version": "3.10.8"
  },
  "vscode": {
   "interpreter": {
    "hash": "26de051ba29f2982a8de78e945f0abaf191376122a1563185a90213a26c5da77"
   }
  }
 },
 "nbformat": 4,
 "nbformat_minor": 5
}
